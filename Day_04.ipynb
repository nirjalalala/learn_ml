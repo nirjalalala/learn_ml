{
  "nbformat": 4,
  "nbformat_minor": 0,
  "metadata": {
    "colab": {
      "provenance": [],
      "collapsed_sections": [
        "3AYZxiNmxBV-",
        "j85yG5UdxzBP",
        "qFOAzS_dM0qv",
        "1mZNg5VyNQfe"
      ],
      "authorship_tag": "ABX9TyPNdREW297bz452UbakcvV1",
      "include_colab_link": true
    },
    "kernelspec": {
      "name": "python3",
      "display_name": "Python 3"
    },
    "language_info": {
      "name": "python"
    }
  },
  "cells": [
    {
      "cell_type": "markdown",
      "metadata": {
        "id": "view-in-github",
        "colab_type": "text"
      },
      "source": [
        "<a href=\"https://colab.research.google.com/github/nirjalalala/learn_ml/blob/main/Day_04.ipynb\" target=\"_parent\"><img src=\"https://colab.research.google.com/assets/colab-badge.svg\" alt=\"Open In Colab\"/></a>"
      ]
    },
    {
      "cell_type": "markdown",
      "source": [
        "#**Modular Programming**(Introduction)"
      ],
      "metadata": {
        "id": "i3wadS60vjcZ"
      }
    },
    {
      "cell_type": "markdown",
      "source": [
        "Breaking a program into independent, manageable, and reusable parts.<br>\n",
        "Each module handles specific task or feature."
      ],
      "metadata": {
        "id": "rtdw3-ZIv2Mo"
      }
    },
    {
      "cell_type": "markdown",
      "source": [
        "##Built-in Modules"
      ],
      "metadata": {
        "id": "mLs7RAuywr-7"
      }
    },
    {
      "cell_type": "code",
      "source": [
        "import random #for random numbers\n",
        "num = random.randint(1, 10)\n",
        "print(num)"
      ],
      "metadata": {
        "colab": {
          "base_uri": "https://localhost:8080/"
        },
        "id": "hGAEb9qi0eqf",
        "outputId": "df94eb29-00ee-460f-c1f2-4eb512b35625"
      },
      "execution_count": null,
      "outputs": [
        {
          "output_type": "stream",
          "name": "stdout",
          "text": [
            "10\n"
          ]
        }
      ]
    },
    {
      "cell_type": "code",
      "source": [
        "from math import sqrt , pi\n",
        " #for math operations\n",
        "print(sqrt(16))\n",
        "print(pi)"
      ],
      "metadata": {
        "colab": {
          "base_uri": "https://localhost:8080/"
        },
        "id": "LzUke4zdwqea",
        "outputId": "4864450c-4ec2-41cc-a60b-a9cc7dcdc78e"
      },
      "execution_count": null,
      "outputs": [
        {
          "output_type": "stream",
          "name": "stdout",
          "text": [
            "4.0\n",
            "3.141592653589793\n"
          ]
        }
      ]
    },
    {
      "cell_type": "code",
      "source": [
        "import os     #for interacting with OS like handling files\n",
        "print(os.getcwd())"
      ],
      "metadata": {
        "colab": {
          "base_uri": "https://localhost:8080/"
        },
        "id": "-J-5lf15x7jo",
        "outputId": "92130866-0eea-4848-c861-e8c589bc96fb"
      },
      "execution_count": null,
      "outputs": [
        {
          "output_type": "stream",
          "name": "stdout",
          "text": [
            "/content\n"
          ]
        }
      ]
    },
    {
      "cell_type": "markdown",
      "source": [
        "##External Modules"
      ],
      "metadata": {
        "id": "3AYZxiNmxBV-"
      }
    },
    {
      "cell_type": "code",
      "execution_count": null,
      "metadata": {
        "colab": {
          "base_uri": "https://localhost:8080/"
        },
        "id": "LQGoEv53vgI5",
        "outputId": "74ac7188-f8b5-45b1-813d-a16e826264fe"
      },
      "outputs": [
        {
          "output_type": "stream",
          "name": "stdout",
          "text": [
            "Requirement already satisfied: numpy in /usr/local/lib/python3.11/dist-packages (2.0.2)\n",
            "4\n"
          ]
        }
      ],
      "source": [
        "#need to be installed\n",
        "!pip install numpy\n",
        "\n",
        "#now import the module\n",
        "import numpy as np\n",
        "\n",
        "num = np.random.randint(1, 10)\n",
        "print(num)"
      ]
    },
    {
      "cell_type": "markdown",
      "source": [
        "##User-defined Modules (CUSTOM MODULES)"
      ],
      "metadata": {
        "id": "j85yG5UdxzBP"
      }
    },
    {
      "cell_type": "code",
      "source": [
        "#helper.py\n",
        "\n",
        "%%writefile helper.py\n",
        "#This above line is only needed in colab for maintaining IDE-like file organization\n",
        "\n",
        "def add_numbers(a, b):\n",
        "  return a + b\n",
        "\n",
        "def multiply_numbers(a, b):\n",
        "  return a * b\n",
        "\n",
        "def subtract_numbers(a, b):\n",
        "  return a - b\n",
        "\n",
        "def divide_numbers(a, b):\n",
        "  return a / b"
      ],
      "metadata": {
        "colab": {
          "base_uri": "https://localhost:8080/"
        },
        "id": "qKmz2StoQIY6",
        "outputId": "630fce80-5f2e-42f1-c18c-a512dfeedb40"
      },
      "execution_count": null,
      "outputs": [
        {
          "output_type": "stream",
          "name": "stdout",
          "text": [
            "Overwriting helper.py\n"
          ]
        }
      ]
    },
    {
      "cell_type": "code",
      "source": [
        "#main.py\n",
        "import  helper\n",
        "import importlib\n",
        "importlib.reload(helper)\n",
        "\n",
        "num1 = 10\n",
        "num2 = 5\n",
        "\n",
        "sum = helper.add_numbers(num1, num2)\n",
        "print(sum)\n",
        "\n",
        "product = helper.multiply_numbers(num1, num2)\n",
        "print(product)\n",
        "\n",
        "diff = helper.subtract_numbers(num1, num2)\n",
        "print(diff)\n",
        "\n",
        "quotient =helper.divide_numbers(num1, num2)\n",
        "print(quotient)\n",
        "\n",
        "\n",
        "# # print(helper.add_numbers(10, 20))\n",
        "# print(helper.subtract_numbers(10, 5))\n",
        "# # print(helper.divide_numbers(10, 20))"
      ],
      "metadata": {
        "colab": {
          "base_uri": "https://localhost:8080/"
        },
        "id": "Pio5KBeAQS5Q",
        "outputId": "769a1cbb-fea7-437c-acae-4ff40303f7d9"
      },
      "execution_count": null,
      "outputs": [
        {
          "output_type": "stream",
          "name": "stdout",
          "text": [
            "15\n",
            "50\n",
            "5\n",
            "2.0\n"
          ]
        }
      ]
    },
    {
      "cell_type": "markdown",
      "source": [
        "#Modular Programming (MORE)"
      ],
      "metadata": {
        "id": "0bUkciy5Lhpr"
      }
    },
    {
      "cell_type": "code",
      "source": [
        "#importing math module\n",
        "import math\n",
        "\n",
        "square_root = math.sqrt(16)\n",
        "print(int(square_root))"
      ],
      "metadata": {
        "colab": {
          "base_uri": "https://localhost:8080/"
        },
        "id": "47OA5LcwLlR8",
        "outputId": "84f43d53-8efd-4dd2-d116-e4c3822234cc"
      },
      "execution_count": null,
      "outputs": [
        {
          "output_type": "stream",
          "name": "stdout",
          "text": [
            "4\n"
          ]
        }
      ]
    },
    {
      "cell_type": "code",
      "source": [
        "#using floor and ceil functions\n",
        "print(math.floor(2.3))\n",
        "print(math.ceil(2.3))"
      ],
      "metadata": {
        "colab": {
          "base_uri": "https://localhost:8080/"
        },
        "id": "ytqg_62_LrFS",
        "outputId": "9d5cd05d-e93d-4809-c858-e3e0e67d77e3"
      },
      "execution_count": null,
      "outputs": [
        {
          "output_type": "stream",
          "name": "stdout",
          "text": [
            "2\n",
            "3\n"
          ]
        }
      ]
    },
    {
      "cell_type": "markdown",
      "source": [
        "###**Module Aliasing**"
      ],
      "metadata": {
        "id": "qFOAzS_dM0qv"
      }
    },
    {
      "cell_type": "code",
      "source": [
        "import matplotlib.pyplot as plt\n",
        "plt.plot([1, 2, 3],[1,4,9])\n",
        "plt.show()"
      ],
      "metadata": {
        "colab": {
          "base_uri": "https://localhost:8080/",
          "height": 430
        },
        "id": "jkfOog4lMGPZ",
        "outputId": "fa37575f-e079-4d71-ee96-6999ba6d3d2a"
      },
      "execution_count": null,
      "outputs": [
        {
          "output_type": "display_data",
          "data": {
            "text/plain": [
              "<Figure size 640x480 with 1 Axes>"
            ],
            "image/png": "[encoded data removed]"
          },
          "metadata": {}
        }
      ]
    },
    {
      "cell_type": "markdown",
      "source": [
        "###**Variable Aliasing**"
      ],
      "metadata": {
        "id": "1mZNg5VyNQfe"
      }
    },
    {
      "cell_type": "code",
      "source": [
        "a = [1,2,3,4]\n",
        "b = a  #shallow copy\n",
        "b.append(5)\n",
        "print(a)\n",
        "print(b)"
      ],
      "metadata": {
        "colab": {
          "base_uri": "https://localhost:8080/"
        },
        "id": "Bw7uzLm1MyKu",
        "outputId": "7d8fae89-668a-4a90-cb0e-c6b3e56f7361"
      },
      "execution_count": null,
      "outputs": [
        {
          "output_type": "stream",
          "name": "stdout",
          "text": [
            "[1, 2, 3, 4]\n",
            "[1, 2, 3, 4, 5]\n"
          ]
        }
      ]
    },
    {
      "cell_type": "code",
      "source": [
        "#Illustation of deep copy\n",
        "a = [1,2,3,4]\n",
        "b = a.copy()  #deep copy\n",
        "b.append(5)\n",
        "print(a)\n",
        "print(b)"
      ],
      "metadata": {
        "colab": {
          "base_uri": "https://localhost:8080/"
        },
        "id": "5W9-q6Y-ObNk",
        "outputId": "fe45b325-552a-41f9-bf49-83794c2c8be9"
      },
      "execution_count": null,
      "outputs": [
        {
          "output_type": "stream",
          "name": "stdout",
          "text": [
            "[1, 2, 3, 4]\n",
            "[1, 2, 3, 4, 5]\n"
          ]
        }
      ]
    },
    {
      "cell_type": "markdown",
      "source": [
        "###**Function Aliasing and Module aliasing***"
      ],
      "metadata": {
        "id": "LmnXvlrzNxMi"
      }
    },
    {
      "cell_type": "code",
      "source": [
        "def print_greeting_message(name):\n",
        "  print(\"Hello \" + name)\n",
        "\n",
        "greet = print_greeting_message\n",
        "\n",
        "greet(\"John\")\n",
        "print_greeting_message(\"John\")"
      ],
      "metadata": {
        "colab": {
          "base_uri": "https://localhost:8080/"
        },
        "id": "Ngn9KL8wNepS",
        "outputId": "1bb70eb6-5bcd-4912-fa2a-6792a40c4e2b"
      },
      "execution_count": null,
      "outputs": [
        {
          "output_type": "stream",
          "name": "stdout",
          "text": [
            "Hello John\n",
            "Hello John\n"
          ]
        }
      ]
    },
    {
      "cell_type": "markdown",
      "source": [
        "##**Randoms in Python**"
      ],
      "metadata": {
        "id": "RxjNsLvUOvLk"
      }
    },
    {
      "cell_type": "code",
      "source": [
        "import random\n",
        "\n",
        "#prints a random float value between 0 and 1\n",
        "print(random.random())\n",
        "\n",
        "#prints a random int in the given range ( inclusive of both )\n",
        "print(random.randint(1, 10))"
      ],
      "metadata": {
        "colab": {
          "base_uri": "https://localhost:8080/"
        },
        "id": "_AwnEaXjO5il",
        "outputId": "9a0c0633-a986-446e-d73f-5e3c5e566c07"
      },
      "execution_count": null,
      "outputs": [
        {
          "output_type": "stream",
          "name": "stdout",
          "text": [
            "0.6193236493532318\n",
            "3\n"
          ]
        }
      ]
    },
    {
      "cell_type": "code",
      "source": [
        "# prints a random float in given range\n",
        "print(random.uniform(1,100))\n",
        "\n",
        "#HOMEWORK: EXPLORE MORE MODULES AND FUNCTIONS/METHODS"
      ],
      "metadata": {
        "colab": {
          "base_uri": "https://localhost:8080/"
        },
        "id": "B2c7V4JEPAyO",
        "outputId": "4186c9ab-895d-48c8-fb55-5e1968ae6937"
      },
      "execution_count": null,
      "outputs": [
        {
          "output_type": "stream",
          "name": "stdout",
          "text": [
            "87.25709742792071\n"
          ]
        }
      ]
    },
    {
      "cell_type": "code",
      "source": [
        "#shuffle() will return a list by random shuffling\n",
        "\n",
        "numbers = list(range(1,11))\n",
        "print(numbers)\n",
        "\n",
        "random.shuffle(numbers)\n",
        "print(numbers)"
      ],
      "metadata": {
        "colab": {
          "base_uri": "https://localhost:8080/"
        },
        "id": "XCKBZQXUPfpk",
        "outputId": "06d1966f-9eb8-4121-83dc-61133b67d7f1"
      },
      "execution_count": null,
      "outputs": [
        {
          "output_type": "stream",
          "name": "stdout",
          "text": [
            "[1, 2, 3, 4, 5, 6, 7, 8, 9, 10]\n",
            "[10, 9, 7, 2, 8, 1, 5, 3, 6, 4]\n"
          ]
        }
      ]
    },
    {
      "cell_type": "markdown",
      "source": [
        "**Further exploration is done on Day_05.ipynb .**"
      ],
      "metadata": {
        "id": "t6_BznXcX4KX"
      }
    }
  ]
}