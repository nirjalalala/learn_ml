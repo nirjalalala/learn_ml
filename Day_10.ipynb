{
  "nbformat": 4,
  "nbformat_minor": 0,
  "metadata": {
    "colab": {
      "provenance": [],
      "authorship_tag": "ABX9TyOV9TtUtEjv4NvS9gMD4jRJ",
      "include_colab_link": true
    },
    "kernelspec": {
      "name": "python3",
      "display_name": "Python 3"
    },
    "language_info": {
      "name": "python"
    }
  },
  "cells": [
    {
      "cell_type": "markdown",
      "metadata": {
        "id": "view-in-github",
        "colab_type": "text"
      },
      "source": [
        "<a href=\"https://colab.research.google.com/github/nirjalalala/learn_ml/blob/main/Day_10.ipynb\" target=\"_parent\"><img src=\"https://colab.research.google.com/assets/colab-badge.svg\" alt=\"Open In Colab\"/></a>"
      ]
    },
    {
      "cell_type": "markdown",
      "source": [
        "#**LINEAR ALGEBRA FOR AI**"
      ],
      "metadata": {
        "id": "Vrfkz5N7_czt"
      }
    },
    {
      "cell_type": "markdown",
      "source": [
        "**Working with scalars and vectors**"
      ],
      "metadata": {
        "id": "wy0Qobd6_z3N"
      }
    },
    {
      "cell_type": "code",
      "execution_count": 2,
      "metadata": {
        "id": "E2bujyac_XS6"
      },
      "outputs": [],
      "source": [
        "import numpy as np\n"
      ]
    },
    {
      "cell_type": "code",
      "source": [
        "#Creating a scaler\n",
        "scaler = 9\n",
        "print(scaler)"
      ],
      "metadata": {
        "colab": {
          "base_uri": "https://localhost:8080/"
        },
        "id": "IL7c8BEWABWs",
        "outputId": "22aa1921-ae7e-496c-daaf-eb43b4a81525"
      },
      "execution_count": null,
      "outputs": [
        {
          "output_type": "stream",
          "name": "stdout",
          "text": [
            "9\n"
          ]
        }
      ]
    },
    {
      "cell_type": "code",
      "source": [
        "#creating a vector\n",
        "vector = np.array([1,2])\n",
        "print(vector)"
      ],
      "metadata": {
        "colab": {
          "base_uri": "https://localhost:8080/"
        },
        "id": "qQE3RlysAG2A",
        "outputId": "a63f9b15-d7ea-45ae-e061-6ab5605252ca"
      },
      "execution_count": null,
      "outputs": [
        {
          "output_type": "stream",
          "name": "stdout",
          "text": [
            "[1 2]\n"
          ]
        }
      ]
    },
    {
      "cell_type": "code",
      "source": [
        "#Scaling a vector with scaler  i.e.  scaled vector\n",
        "scaled_vector = vector * scaler\n",
        "print(scaled_vector)"
      ],
      "metadata": {
        "colab": {
          "base_uri": "https://localhost:8080/"
        },
        "id": "SL4Z3XkzAUjm",
        "outputId": "61043891-c01e-4c1d-ef4e-53c9c67deb4e"
      },
      "execution_count": null,
      "outputs": [
        {
          "output_type": "stream",
          "name": "stdout",
          "text": [
            "[ 9 18]\n"
          ]
        }
      ]
    },
    {
      "cell_type": "markdown",
      "source": [
        "##**VECTOR ADDITION AND SUBTRACTION**"
      ],
      "metadata": {
        "id": "fPb-mJUDAxOS"
      }
    },
    {
      "cell_type": "code",
      "source": [
        "#Creating Two vectors\n",
        "vector1 = np.array([1,2])\n",
        "vector2 = np.array([3,4])\n",
        "\n",
        "#Vector addition\n",
        "add_vector = vector1 + vector2\n",
        "print(add_vector)\n",
        "\n",
        "#Vector subtraction\n",
        "sub_vector = vector1 - vector2\n",
        "print(sub_vector)"
      ],
      "metadata": {
        "colab": {
          "base_uri": "https://localhost:8080/"
        },
        "id": "ppQxXRwFAiyY",
        "outputId": "3608d531-51e5-43e5-f2c9-757f98e11271"
      },
      "execution_count": null,
      "outputs": [
        {
          "output_type": "stream",
          "name": "stdout",
          "text": [
            "[4 6]\n",
            "[-2 -2]\n"
          ]
        }
      ]
    },
    {
      "cell_type": "markdown",
      "source": [
        "##**MATRIX CREATION AND SIMPLE OPERATION**"
      ],
      "metadata": {
        "id": "moYwVzI-BBYy"
      }
    },
    {
      "cell_type": "code",
      "source": [
        "#Creating two matrices\n",
        "matrix1 = np.array([[1,2],[3,4]])\n",
        "matrix2 = np.array([[5,6],[7,8]])\n",
        "\n",
        "print(matrix1[1][0])\n",
        "\n",
        "#Priting the matrices\n",
        "print(\"Matrix 1:\")\n",
        "print(matrix1)\n",
        "print(\"\\nMatrix 2:\")\n",
        "print(matrix2)"
      ],
      "metadata": {
        "colab": {
          "base_uri": "https://localhost:8080/"
        },
        "id": "IXvF0mocA_tB",
        "outputId": "2319fb26-4bc1-4f85-f61b-7190bf251647"
      },
      "execution_count": null,
      "outputs": [
        {
          "output_type": "stream",
          "name": "stdout",
          "text": [
            "3\n",
            "Matrix 1:\n",
            "[[1 2]\n",
            " [3 4]]\n",
            "\n",
            "Matrix 2:\n",
            "[[5 6]\n",
            " [7 8]]\n"
          ]
        }
      ]
    },
    {
      "cell_type": "code",
      "source": [
        "#Matrix addition\n",
        "add_matrix = matrix1 + matrix2\n",
        "print(\"Sum\")\n",
        "print(add_matrix)"
      ],
      "metadata": {
        "colab": {
          "base_uri": "https://localhost:8080/"
        },
        "id": "klUo_q6ZBkMs",
        "outputId": "42310dc5-9ff2-44a0-c9e5-43ee3ca37ce1"
      },
      "execution_count": null,
      "outputs": [
        {
          "output_type": "stream",
          "name": "stdout",
          "text": [
            "Sum\n",
            "[[ 6  8]\n",
            " [10 12]]\n"
          ]
        }
      ]
    },
    {
      "cell_type": "code",
      "source": [
        "#Matrix subtraction\n",
        "sub_matrix = matrix1 - matrix2\n",
        "print(\"Difference\")\n",
        "print(sub_matrix)"
      ],
      "metadata": {
        "colab": {
          "base_uri": "https://localhost:8080/"
        },
        "id": "EYAvYNxIBrpG",
        "outputId": "e658407c-b08c-4655-beb4-e13c0896703b"
      },
      "execution_count": null,
      "outputs": [
        {
          "output_type": "stream",
          "name": "stdout",
          "text": [
            "Difference\n",
            "[[-4 -4]\n",
            " [-4 -4]]\n"
          ]
        }
      ]
    },
    {
      "cell_type": "code",
      "source": [
        "#Element-wise matrix multiplication\n",
        "mul_matrix = matrix1 * matrix2\n",
        "print(mul_matrix)"
      ],
      "metadata": {
        "colab": {
          "base_uri": "https://localhost:8080/"
        },
        "id": "1s5q3NR_Bv5I",
        "outputId": "ace81d63-5ba3-4793-feb6-646c21d95386"
      },
      "execution_count": null,
      "outputs": [
        {
          "output_type": "stream",
          "name": "stdout",
          "text": [
            "[[ 5 12]\n",
            " [21 32]]\n"
          ]
        }
      ]
    },
    {
      "cell_type": "markdown",
      "source": [
        "##**MATRIX MULTIPLICATION**"
      ],
      "metadata": {
        "id": "JBj7T_DWDVcJ"
      }
    },
    {
      "cell_type": "markdown",
      "source": [
        "####Finding matrix multiplication using python lists."
      ],
      "metadata": {
        "id": "uLD7SM8mNvZD"
      }
    },
    {
      "cell_type": "code",
      "source": [
        "#Two matrix\n",
        "a = [[1,0,1,1],[0,1,0,1],[1,1,1,1]]\n",
        "b = [[1,2,3],[1,2,3],[3,2,1],[0,0,0]]\n",
        "\n",
        "#identify dimensions of mattrices\n",
        "rows_a = len(a)\n",
        "rows_b = len(b)\n",
        "columns_a = len(a[0])\n",
        "columns_b = len(b[0])\n",
        "\n",
        "#check if matrices can be multiplied\n",
        "if columns_a != rows_b:\n",
        "  print(\"Matrices cannot be multiplied\")\n",
        "else:\n",
        "  print(\"Matrices can be multiplied\")\n",
        "\n",
        "  #Resultant Matrix\n",
        "  c = [[0 for _ in range(columns_b)] for _ in range(rows_a)]\n",
        "\n",
        "  #once for each row of result matrix.  #3 rows\n",
        "  for i in range(0,3):\n",
        "    #once for each column of result matrix  #3 columns\n",
        "    for j in range(0,3):\n",
        "      # initially,set the element to be 0\n",
        "      result = 0\n",
        "      #complete operation for one element # b11 = a10.b01 + a11.b11 + a12.b21\n",
        "      for k in range(0,3):\n",
        "        #row of result = row of first and #column of result = column of second\n",
        "        result += a[i][k] * b[k][j]\n",
        "      c[i][j] = result\n",
        "\n",
        "  print(c)\n",
        "\n"
      ],
      "metadata": {
        "colab": {
          "base_uri": "https://localhost:8080/"
        },
        "id": "y-2PeSg0H35X",
        "outputId": "7fd952fd-ab80-4d75-992d-7649c8c8432d"
      },
      "execution_count": null,
      "outputs": [
        {
          "output_type": "stream",
          "name": "stdout",
          "text": [
            "Matrices can be multiplied\n",
            "[[4, 4, 4], [1, 2, 3], [5, 6, 7]]\n"
          ]
        }
      ]
    },
    {
      "cell_type": "markdown",
      "source": [
        "####Using built-in function"
      ],
      "metadata": {
        "id": "WAo92CWLN7WQ"
      }
    },
    {
      "cell_type": "code",
      "source": [
        "#Creating two numpy arrays\n",
        "a = np.array([[1,0,1,1],[0,1,0,1],[1,1,1,1]])\n",
        "b = np.array([[1,2,3],[1,2,3],[3,2,1],[0,0,0]])\n",
        "\n",
        "product = np.dot(a,b)\n",
        "print(product)"
      ],
      "metadata": {
        "colab": {
          "base_uri": "https://localhost:8080/"
        },
        "id": "tVkhcJxmKRdV",
        "outputId": "83147d41-6bb7-44e3-8b50-81a20441ee93"
      },
      "execution_count": null,
      "outputs": [
        {
          "output_type": "stream",
          "name": "stdout",
          "text": [
            "[[4 4 4]\n",
            " [1 2 3]\n",
            " [5 6 7]]\n"
          ]
        }
      ]
    },
    {
      "cell_type": "code",
      "source": [
        "#Creating two matrix\n",
        "matrix1 = np.array([[1,2],[3,4]])\n",
        "matrix2 = np.array([[5,6],[7,8]])\n",
        "\n",
        "#Matrix multiplication\n",
        "mul_matrix = np.dot(matrix1,matrix2)\n",
        "print(mul_matrix)"
      ],
      "metadata": {
        "colab": {
          "base_uri": "https://localhost:8080/"
        },
        "id": "TsTtPqluC-fM",
        "outputId": "ec34bb6e-e326-470b-cefe-8588c0672719"
      },
      "execution_count": null,
      "outputs": [
        {
          "output_type": "stream",
          "name": "stdout",
          "text": [
            "[[19 22]\n",
            " [43 50]]\n"
          ]
        }
      ]
    },
    {
      "cell_type": "code",
      "source": [
        "#3x3 matrix\n",
        "matrix1 = np.array([[1,0,1],[0,1,0],[1,1,1]])\n",
        "matrix2 = np.array([[1,2,3],[1,2,3],[3,2,1]])\n",
        "\n",
        "product = np.dot(matrix1,matrix2)\n",
        "print(product)"
      ],
      "metadata": {
        "colab": {
          "base_uri": "https://localhost:8080/"
        },
        "id": "cVc6CkoYDMIi",
        "outputId": "bd194725-b1bd-494e-d387-79c517d42285"
      },
      "execution_count": null,
      "outputs": [
        {
          "output_type": "stream",
          "name": "stdout",
          "text": [
            "[[4 4 4]\n",
            " [1 2 3]\n",
            " [5 6 7]]\n"
          ]
        }
      ]
    },
    {
      "cell_type": "code",
      "source": [
        "# A**2\n",
        "A = np.array([[1,0,1],[0,1,0],[1,1,1]])\n",
        "#finding A*A\n",
        "square_of_A = np.dot(A,A)\n",
        "print(square_of_A)"
      ],
      "metadata": {
        "colab": {
          "base_uri": "https://localhost:8080/"
        },
        "id": "i2L409IKF7zs",
        "outputId": "44228c01-1369-4433-c603-fdcbb5c66874"
      },
      "execution_count": null,
      "outputs": [
        {
          "output_type": "stream",
          "name": "stdout",
          "text": [
            "[[2 1 2]\n",
            " [0 1 0]\n",
            " [2 2 2]]\n"
          ]
        }
      ]
    },
    {
      "cell_type": "markdown",
      "source": [
        "#**IDENTITY MATRIX AND TRANSPOSE OF MATRIX**"
      ],
      "metadata": {
        "id": "b2XGrHDvOqEH"
      }
    },
    {
      "cell_type": "code",
      "source": [
        "identity = np.eye(2, dtype=int)\n",
        "print(identity)"
      ],
      "metadata": {
        "colab": {
          "base_uri": "https://localhost:8080/"
        },
        "id": "c5J08tbLM0s5",
        "outputId": "9f39d8dc-b0fb-48f3-cb78-eb2009d62f4a"
      },
      "execution_count": null,
      "outputs": [
        {
          "output_type": "stream",
          "name": "stdout",
          "text": [
            "[[1 0]\n",
            " [0 1]]\n"
          ]
        }
      ]
    },
    {
      "cell_type": "code",
      "source": [
        "matrix1 = np.array([[1,2],[3,4]])\n",
        "#printng the matrix\n",
        "print(matrix1)\n",
        "#printing the transpose of a matrix\n",
        "print(\"\\nTranspose:\")\n",
        "print(matrix1.T)\n"
      ],
      "metadata": {
        "colab": {
          "base_uri": "https://localhost:8080/"
        },
        "id": "en3ouATFOhnI",
        "outputId": "28a63c10-a7b0-47cf-bc28-cab83cf30b09"
      },
      "execution_count": 12,
      "outputs": [
        {
          "output_type": "stream",
          "name": "stdout",
          "text": [
            "[[1 2]\n",
            " [3 4]]\n",
            "\n",
            "Transpose:\n",
            "[[1 3]\n",
            " [2 4]]\n"
          ]
        }
      ]
    },
    {
      "cell_type": "code",
      "source": [
        "#Manually Finding the Transpose\n",
        "#By exchanging rows and columns.\n",
        "\n",
        "a = [[1,2,3],[4,5,6],[7,8,9]]\n",
        "aT = [[0,0,0],[0,0,0],[0,0,0]]\n",
        "\n",
        "#Finding transpose\n",
        "for i in range(0,3):\n",
        "  for j in range(0,3):\n",
        "    aT[i][j] = a[j][i]\n",
        "print(aT)"
      ],
      "metadata": {
        "colab": {
          "base_uri": "https://localhost:8080/"
        },
        "id": "wSmyEl44POQ0",
        "outputId": "8bde4dd1-16da-4fc0-ef3e-b0e9601051da"
      },
      "execution_count": null,
      "outputs": [
        {
          "output_type": "stream",
          "name": "stdout",
          "text": [
            "[[1, 4, 7], [2, 5, 8], [3, 6, 9]]\n"
          ]
        }
      ]
    },
    {
      "cell_type": "markdown",
      "source": [
        "#**MATRIX INVERSE**"
      ],
      "metadata": {
        "id": "bXtE-G_RQ5ZL"
      }
    },
    {
      "cell_type": "code",
      "source": [
        "a = np.array([[1,2],[3,4]])\n",
        "\n",
        "inverse = np.linalg.inv(a)\n",
        "print(\"Inverse of a:\")\n",
        "print(inverse)\n",
        "\n",
        "identity = np.dot(a,inverse)\n",
        "print(\"\\na . inv(a) =  I \")\n",
        "print(identity)"
      ],
      "metadata": {
        "colab": {
          "base_uri": "https://localhost:8080/"
        },
        "id": "lkwEbKZcQjhg",
        "outputId": "c758b501-18d0-4d0d-a141-fdcbdb2674be"
      },
      "execution_count": 4,
      "outputs": [
        {
          "output_type": "stream",
          "name": "stdout",
          "text": [
            "Inverse of a:\n",
            "[[-2.   1. ]\n",
            " [ 1.5 -0.5]]\n",
            "\n",
            "a . inv(a) =  I \n",
            "[[1.0000000e+00 0.0000000e+00]\n",
            " [8.8817842e-16 1.0000000e+00]]\n"
          ]
        }
      ]
    },
    {
      "cell_type": "markdown",
      "source": [
        "#**SOME PRACTICE QUESTIONS**"
      ],
      "metadata": {
        "id": "4n7XfVQGLF_P"
      }
    },
    {
      "cell_type": "markdown",
      "source": [
        "![WhatsApp Image 2025-06-05 at 14.55.52_e55d1824.jpg](data:image/jpeg;base64,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)"
      ],
      "metadata": {
        "id": "GaVqXBnBLNMg"
      }
    },
    {
      "cell_type": "code",
      "source": [
        "vector = np.array([7,8,9])\n",
        "scaled_vector = vector * 2\n",
        "print(scaled_vector)\n"
      ],
      "metadata": {
        "id": "x8GB6ZD0RJ8D",
        "colab": {
          "base_uri": "https://localhost:8080/"
        },
        "outputId": "4a2247b0-c77c-4f49-d6c2-0ef4d1bdb165"
      },
      "execution_count": 5,
      "outputs": [
        {
          "output_type": "stream",
          "name": "stdout",
          "text": [
            "[14 16 18]\n"
          ]
        }
      ]
    },
    {
      "cell_type": "code",
      "source": [
        "vector1 = np.array([1,2])\n",
        "vector2 = np.array([3,4])\n",
        "\n",
        "sum_vector = vector1 + vector2\n",
        "print(\"The sum is:\")\n",
        "print(sum_vector)\n",
        "\n",
        "diff_vector = vector1 - vector2\n",
        "print(\"The difference is:\")\n",
        "print(diff_vector)\n"
      ],
      "metadata": {
        "colab": {
          "base_uri": "https://localhost:8080/"
        },
        "id": "ZgIVYj31Lesk",
        "outputId": "d786357d-08ad-4d4f-cf62-6a987207f095"
      },
      "execution_count": 6,
      "outputs": [
        {
          "output_type": "stream",
          "name": "stdout",
          "text": [
            "The sum is:\n",
            "[4 6]\n",
            "The difference is:\n",
            "[-2 -2]\n"
          ]
        }
      ]
    },
    {
      "cell_type": "code",
      "source": [
        "vector1 = np.array([[0,1],[2,3]])\n",
        "vector2 = np.array([[4,5],[6,7]])\n",
        "\n",
        "sum_vector = vector1 + vector2\n",
        "print(\"The sum is:\")\n",
        "print(sum_vector)\n"
      ],
      "metadata": {
        "colab": {
          "base_uri": "https://localhost:8080/"
        },
        "id": "QGb7QN1HL1Q9",
        "outputId": "3267fda6-2012-40a7-f2bb-e09bd9d934c1"
      },
      "execution_count": 7,
      "outputs": [
        {
          "output_type": "stream",
          "name": "stdout",
          "text": [
            "The sum is:\n",
            "[[ 4  6]\n",
            " [ 8 10]]\n"
          ]
        }
      ]
    },
    {
      "cell_type": "code",
      "source": [
        "vector1 = np.array([[2,1],[0,3]])\n",
        "vector2 = np.array([[1,2],[3,4]])\n",
        "\n",
        "product_vector = np.dot(vector1,vector2)\n",
        "print(\"The product is:\")\n",
        "print(product_vector)"
      ],
      "metadata": {
        "colab": {
          "base_uri": "https://localhost:8080/"
        },
        "id": "mZWYg4H1MJlS",
        "outputId": "1005f762-2441-4aef-f7df-fc73994c0325"
      },
      "execution_count": 8,
      "outputs": [
        {
          "output_type": "stream",
          "name": "stdout",
          "text": [
            "The product is:\n",
            "[[ 5  8]\n",
            " [ 9 12]]\n"
          ]
        }
      ]
    },
    {
      "cell_type": "code",
      "source": [
        "vector1 = np.array([[5,10,15],[20,25,30]])\n",
        "\n",
        "transpose = np.transpose(vector1)\n",
        "print(\"The transpose matrix is:\")\n",
        "print(transpose)\n",
        "\n",
        "I = np.eye(3)\n",
        "print(\"\\nThe 3x3 identity matrix is:\")\n",
        "print(I)"
      ],
      "metadata": {
        "colab": {
          "base_uri": "https://localhost:8080/"
        },
        "id": "5LLM7JFTMaWr",
        "outputId": "0d2d535c-be62-49ff-ea3d-9afd8ea95bd8"
      },
      "execution_count": 11,
      "outputs": [
        {
          "output_type": "stream",
          "name": "stdout",
          "text": [
            "The transpose matrix is:\n",
            "[[ 5 20]\n",
            " [10 25]\n",
            " [15 30]]\n",
            "\n",
            "The 3x3 identity matrix is:\n",
            "[[1. 0. 0.]\n",
            " [0. 1. 0.]\n",
            " [0. 0. 1.]]\n"
          ]
        }
      ]
    }
  ]
}