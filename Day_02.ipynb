{
  "nbformat": 4,
  "nbformat_minor": 0,
  "metadata": {
    "colab": {
      "provenance": [],
      "collapsed_sections": [
        "5ziex5VPxGWo"
      ],
      "authorship_tag": "ABX9TyMvyXAjCmbhYfYpBF/buzzR",
      "include_colab_link": true
    },
    "kernelspec": {
      "name": "python3",
      "display_name": "Python 3"
    },
    "language_info": {
      "name": "python"
    }
  },
  "cells": [
    {
      "cell_type": "markdown",
      "metadata": {
        "id": "view-in-github",
        "colab_type": "text"
      },
      "source": [
        "<a href=\"https://colab.research.google.com/github/nirjalalala/learn_ml/blob/main/Day_02.ipynb\" target=\"_parent\"><img src=\"https://colab.research.google.com/assets/colab-badge.svg\" alt=\"Open In Colab\"/></a>"
      ]
    },
    {
      "cell_type": "markdown",
      "source": [
        "##**Section 1**"
      ],
      "metadata": {
        "id": "T3zfFxeBwTFJ"
      }
    },
    {
      "cell_type": "markdown",
      "source": [
        "##**Functions in Python**"
      ],
      "metadata": {
        "id": "5ziex5VPxGWo"
      }
    },
    {
      "cell_type": "code",
      "source": [
        "def area_of_square(len):\n",
        "  return len*len\n",
        "num = 5\n",
        "print(f'Area of square with length {num} is {area_of_square(num)}')"
      ],
      "metadata": {
        "colab": {
          "base_uri": "https://localhost:8080/"
        },
        "id": "nl8TXYK5xEu2",
        "outputId": "5c09573c-bc80-4725-8607-b01a5cc911e3"
      },
      "execution_count": null,
      "outputs": [
        {
          "output_type": "stream",
          "name": "stdout",
          "text": [
            "Area of square with length 5 is 25\n"
          ]
        }
      ]
    },
    {
      "cell_type": "code",
      "source": [
        "def area_of_circle(radius):\n",
        "  return 3.14 * radius *radius\n",
        "\n",
        "r=5\n",
        "print(f'Area of circle with length {r} is {area_of_circle(r)}')"
      ],
      "metadata": {
        "colab": {
          "base_uri": "https://localhost:8080/"
        },
        "id": "HAvid91Yxk0w",
        "outputId": "877df921-aceb-47c3-e37b-62c98f3ed25c"
      },
      "execution_count": null,
      "outputs": [
        {
          "output_type": "stream",
          "name": "stdout",
          "text": [
            "Area of circle with length 5 is 78.5\n"
          ]
        }
      ]
    },
    {
      "cell_type": "markdown",
      "source": [
        "##**Lists in python**\n",
        "\n",
        "It is suggested to run the following code blocks in sequential order just once.\n"
      ],
      "metadata": {
        "id": "V1pt5OaMzGun"
      }
    },
    {
      "cell_type": "code",
      "source": [
        "#Create a list of fruits\n",
        "fruits = [\"apple\",\"banana\",\"cherry\",\"dragonfruit\"]"
      ],
      "metadata": {
        "id": "UIdxWkbty0I_"
      },
      "execution_count": 1,
      "outputs": []
    },
    {
      "cell_type": "code",
      "source": [
        "#Accessing elements\n",
        "print(fruits[0])  #first\n",
        "print(fruits[3])  #fourth\n",
        "print(fruits[-1]) #last\n",
        "print(fruits[-2]) #second last\n"
      ],
      "metadata": {
        "colab": {
          "base_uri": "https://localhost:8080/"
        },
        "id": "sxFR9ZF01Fpu",
        "outputId": "a0cc921a-e8bf-479f-f70a-f8bebcb84607"
      },
      "execution_count": 2,
      "outputs": [
        {
          "output_type": "stream",
          "name": "stdout",
          "text": [
            "apple\n",
            "dragonfruit\n",
            "dragonfruit\n",
            "cherry\n"
          ]
        }
      ]
    },
    {
      "cell_type": "code",
      "source": [
        "#Adding elements in the list\n",
        "fruits.append(\"Fig\")\n",
        "print(fruits)\n",
        "fruits.insert(4,\"Elderberry\")\n",
        "print(fruits)"
      ],
      "metadata": {
        "colab": {
          "base_uri": "https://localhost:8080/"
        },
        "id": "arQ2YwYozfsU",
        "outputId": "21b6bf9f-9bf3-4fb0-f6c8-ee463436ad96"
      },
      "execution_count": 3,
      "outputs": [
        {
          "output_type": "stream",
          "name": "stdout",
          "text": [
            "['apple', 'banana', 'cherry', 'dragonfruit', 'Fig']\n",
            "['apple', 'banana', 'cherry', 'dragonfruit', 'Elderberry', 'Fig']\n"
          ]
        }
      ]
    },
    {
      "cell_type": "code",
      "source": [
        "#Updating an element in the list\n",
        "fruits[0] = \"Avocado\"\n",
        "print(fruits)"
      ],
      "metadata": {
        "colab": {
          "base_uri": "https://localhost:8080/"
        },
        "id": "wyH3WA8T3I-U",
        "outputId": "bb3a0b31-9ff6-4685-dbca-86c5515937e9"
      },
      "execution_count": 4,
      "outputs": [
        {
          "output_type": "stream",
          "name": "stdout",
          "text": [
            "['Avocado', 'banana', 'cherry', 'dragonfruit', 'Elderberry', 'Fig']\n"
          ]
        }
      ]
    },
    {
      "cell_type": "code",
      "source": [
        "#Removing elements in the list\n",
        "fruits.remove(\"Fig\")\n",
        "print(fruits)\n",
        "del fruits[-1]\n",
        "print(fruits)\n",
        "\n",
        "fruits.clear()\n",
        "print(fruits)"
      ],
      "metadata": {
        "colab": {
          "base_uri": "https://localhost:8080/"
        },
        "id": "Sm5n3RDR1R-K",
        "outputId": "a81b790d-c69e-4841-973e-252e71f5469b"
      },
      "execution_count": 5,
      "outputs": [
        {
          "output_type": "stream",
          "name": "stdout",
          "text": [
            "['Avocado', 'banana', 'cherry', 'dragonfruit', 'Elderberry']\n",
            "['Avocado', 'banana', 'cherry', 'dragonfruit']\n",
            "[]\n"
          ]
        }
      ]
    },
    {
      "cell_type": "markdown",
      "source": [
        "#**Sets in Python**\n",
        "Unordered collection of unique data i.e. same data is not repeated in set."
      ],
      "metadata": {
        "id": "VeK_5sooXtB3"
      }
    },
    {
      "cell_type": "code",
      "source": [
        "#create a new set\n",
        "numbers = set()\n",
        "#add new item to set\n",
        "numbers.add(\"one\")\n",
        "numbers.add(\"two\")\n",
        "numbers.add(\"three\")\n",
        "numbers.add(\"four\")\n",
        "print(numbers)"
      ],
      "metadata": {
        "colab": {
          "base_uri": "https://localhost:8080/"
        },
        "id": "1k77_JguX-ZJ",
        "outputId": "3ca9dceb-defc-46b6-ce9c-289fc9e85637"
      },
      "execution_count": 7,
      "outputs": [
        {
          "output_type": "stream",
          "name": "stdout",
          "text": [
            "{'three', 'four', 'two', 'one'}\n"
          ]
        }
      ]
    },
    {
      "cell_type": "code",
      "source": [
        "#another way to initialize a new set\n",
        "Numbers = {\"one\",\"two\",\"three\",\"four\"}\n",
        "print(Numbers)"
      ],
      "metadata": {
        "colab": {
          "base_uri": "https://localhost:8080/"
        },
        "id": "CXXIESDqYQJp",
        "outputId": "ea75c845-061a-48f2-af84-07317104ccd3"
      },
      "execution_count": 9,
      "outputs": [
        {
          "output_type": "stream",
          "name": "stdout",
          "text": [
            "{'three', 'four', 'two', 'one'}\n"
          ]
        }
      ]
    },
    {
      "cell_type": "code",
      "source": [
        "#remove an item from a set\n",
        "numbers.remove(\"one\")\n",
        "#generates an error if the item doesn't exist in the set.\n",
        "print(numbers)"
      ],
      "metadata": {
        "colab": {
          "base_uri": "https://localhost:8080/"
        },
        "id": "iuy05nx3YiqB",
        "outputId": "42ba0d66-65a3-4d0e-db66-4b9648341199"
      },
      "execution_count": 10,
      "outputs": [
        {
          "output_type": "stream",
          "name": "stdout",
          "text": [
            "{'three', 'four', 'two'}\n"
          ]
        }
      ]
    },
    {
      "cell_type": "code",
      "source": [
        "numbers.discard(\"two\")\n",
        "#doesn't generate an error if the item doesn't exist in the set.\n",
        "print(numbers)"
      ],
      "metadata": {
        "colab": {
          "base_uri": "https://localhost:8080/"
        },
        "id": "SR4Axp0MZe6V",
        "outputId": "cb7fb56f-9669-4e19-d419-351eff131ca4"
      },
      "execution_count": 14,
      "outputs": [
        {
          "output_type": "stream",
          "name": "stdout",
          "text": [
            "set()\n"
          ]
        }
      ]
    },
    {
      "cell_type": "code",
      "source": [
        "#clear set\n",
        "numbers.clear()\n",
        "print(numbers)"
      ],
      "metadata": {
        "colab": {
          "base_uri": "https://localhost:8080/"
        },
        "id": "F_j3M4N0Y5IV",
        "outputId": "f4267fdd-20b4-497b-ce76-ea0d8edbca31"
      },
      "execution_count": 13,
      "outputs": [
        {
          "output_type": "stream",
          "name": "stdout",
          "text": [
            "set()\n"
          ]
        }
      ]
    },
    {
      "cell_type": "markdown",
      "source": [
        "####Set Operations"
      ],
      "metadata": {
        "id": "6wgO0LDUZwaM"
      }
    },
    {
      "cell_type": "code",
      "source": [
        "a = {1,2,3,4,5}\n",
        "b = {4,5,6,7,8}\n",
        "print(a|b) #union\n",
        "print(a&b) #intersection\n",
        "print(a-b) #difference\n",
        "print(a^b) #union-intersection i.e. items that appear in only one of the two sets.\n",
        "print(a.issubset(b)) #check if a is subset of b\n",
        "print(a.issuperset(b)) #check if a is superset of b"
      ],
      "metadata": {
        "colab": {
          "base_uri": "https://localhost:8080/"
        },
        "id": "CQ42ZpxJZ0o9",
        "outputId": "040d8872-48ed-4063-fd31-c998d0068553"
      },
      "execution_count": 16,
      "outputs": [
        {
          "output_type": "stream",
          "name": "stdout",
          "text": [
            "{1, 2, 3, 4, 5, 6, 7, 8}\n",
            "{4, 5}\n",
            "{1, 2, 3}\n",
            "{1, 2, 3, 6, 7, 8}\n",
            "False\n",
            "False\n"
          ]
        }
      ]
    },
    {
      "cell_type": "markdown",
      "source": [
        "##**Dictionary in Python**"
      ],
      "metadata": {
        "id": "bX_AejXj-J5m"
      }
    },
    {
      "cell_type": "code",
      "source": [
        "#creating a dictionary\n",
        "\n",
        "student= {\n",
        "'name' : \"nirjala\",\n",
        "'age' : 21,\n",
        "'course' : 'cs'\n",
        "}\n",
        "\n",
        "#accessing values of particular key\n",
        "print(student[\"name\"])\n",
        "#we can also use get method to safely get the value by key\n",
        "print(student.get(\"name\"))\n"
      ],
      "metadata": {
        "id": "y5ERP3Ic2U6J",
        "colab": {
          "base_uri": "https://localhost:8080/"
        },
        "outputId": "05e3fd85-1e24-46b0-aa8b-442bcc4dc1b4"
      },
      "execution_count": 19,
      "outputs": [
        {
          "output_type": "stream",
          "name": "stdout",
          "text": [
            "nirjala\n",
            "nirjala\n",
            "ai\n",
            "dict_items([('name', 'nirjala'), ('age', 21), ('course', 'ai'), ('id', 1)])\n",
            "dict_items([('name', 'nirjala'), ('age', 21), ('id', 1)])\n"
          ]
        }
      ]
    },
    {
      "cell_type": "code",
      "source": [
        "#updating values of particular key\n",
        "student[\"course\"] = 'ai'\n",
        "print(student[\"course\"])\n",
        "\n",
        "#creating new key-value pair\n",
        "student[\"id\"] = 1\n",
        "print(student.items())\n",
        "\n",
        "#removing an item from dictionary\n",
        "del student[\"course\"]\n",
        "print(student.items())"
      ],
      "metadata": {
        "colab": {
          "base_uri": "https://localhost:8080/"
        },
        "id": "4CAcamQYbI1i",
        "outputId": "6df1c868-b7ce-4092-f357-abb8f6dc3c20"
      },
      "execution_count": 20,
      "outputs": [
        {
          "output_type": "stream",
          "name": "stdout",
          "text": [
            "ai\n",
            "dict_items([('name', 'nirjala'), ('age', 21), ('id', 1), ('course', 'ai')])\n",
            "dict_items([('name', 'nirjala'), ('age', 21), ('id', 1)])\n"
          ]
        }
      ]
    },
    {
      "cell_type": "code",
      "source": [
        "#get all keys\n",
        "print(student.keys())\n",
        "#get all values\n",
        "print(student.values())"
      ],
      "metadata": {
        "colab": {
          "base_uri": "https://localhost:8080/"
        },
        "id": "hHT0M68FajnA",
        "outputId": "20c6e6c8-fe52-48f8-a103-9c01af8a286e"
      },
      "execution_count": 17,
      "outputs": [
        {
          "output_type": "stream",
          "name": "stdout",
          "text": [
            "dict_keys(['name', 'age', 'id'])\n",
            "dict_values(['nirjala', 21, 1])\n"
          ]
        }
      ]
    },
    {
      "cell_type": "code",
      "source": [
        "#get all key-value pairs\n",
        "print(student.items())"
      ],
      "metadata": {
        "colab": {
          "base_uri": "https://localhost:8080/"
        },
        "id": "jmHhg4Y1ao8n",
        "outputId": "098766df-e3d6-4ae9-e2e7-2fd0926f5a79"
      },
      "execution_count": 18,
      "outputs": [
        {
          "output_type": "stream",
          "name": "stdout",
          "text": [
            "dict_items([('name', 'nirjala'), ('age', 21), ('id', 1)])\n"
          ]
        }
      ]
    }
  ]
}