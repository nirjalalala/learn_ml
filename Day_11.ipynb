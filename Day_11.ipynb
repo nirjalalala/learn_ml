{
  "nbformat": 4,
  "nbformat_minor": 0,
  "metadata": {
    "colab": {
      "provenance": [],
      "authorship_tag": "ABX9TyMKkV0uN5gxnWWyw+4dO+sY",
      "include_colab_link": true
    },
    "kernelspec": {
      "name": "python3",
      "display_name": "Python 3"
    },
    "language_info": {
      "name": "python"
    }
  },
  "cells": [
    {
      "cell_type": "markdown",
      "metadata": {
        "id": "view-in-github",
        "colab_type": "text"
      },
      "source": [
        "<a href=\"https://colab.research.google.com/github/nirjalalala/learn_ml/blob/main/Day_11.ipynb\" target=\"_parent\"><img src=\"https://colab.research.google.com/assets/colab-badge.svg\" alt=\"Open In Colab\"/></a>"
      ]
    },
    {
      "cell_type": "markdown",
      "source": [
        "#**PROBABILITY BASICS FOR AI**"
      ],
      "metadata": {
        "id": "Lu7j1CLJITWj"
      }
    },
    {
      "cell_type": "markdown",
      "source": [
        "##**THEORETICAL PROBABILITY**"
      ],
      "metadata": {
        "id": "rtcp9Km_IZpf"
      }
    },
    {
      "cell_type": "code",
      "execution_count": null,
      "metadata": {
        "colab": {
          "base_uri": "https://localhost:8080/"
        },
        "id": "iRR90L-jIPC2",
        "outputId": "a61f7904-35ed-4f68-f6ca-d2e88e995e92"
      },
      "outputs": [
        {
          "output_type": "stream",
          "name": "stdout",
          "text": [
            "0.16666666666666666\n"
          ]
        }
      ],
      "source": [
        "#Declaring possible and total outputs for rolling a die and getting 1\n",
        "possible_outcome = 1\n",
        "all_outcomes = 6\n",
        "probability = possible_outcome/all_outcomes\n",
        "print(probability)"
      ]
    },
    {
      "cell_type": "code",
      "source": [
        "#While flipping a coin\n",
        "head = 1\n",
        "total = 2\n",
        "probability_of_head = head / total\n",
        "print(probability_of_head)"
      ],
      "metadata": {
        "colab": {
          "base_uri": "https://localhost:8080/"
        },
        "id": "wx-B2p7LJ_RI",
        "outputId": "4dff692a-01a0-4deb-def4-54a0c35b0d54"
      },
      "execution_count": null,
      "outputs": [
        {
          "output_type": "stream",
          "name": "stdout",
          "text": [
            "0.5\n"
          ]
        }
      ]
    },
    {
      "cell_type": "markdown",
      "source": [
        "##**EXPERIMENTAL PROBABILITY**"
      ],
      "metadata": {
        "id": "-kl5alY-J39n"
      }
    },
    {
      "cell_type": "code",
      "source": [
        "# After tossing a coin for 100 times,we have to find the probability of obtaining head.\n",
        "import random\n",
        "\n",
        "#we toss the coin 100 times\n",
        "trials = 100\n",
        "#first, no. of heads is zero\n",
        "head=0\n",
        "for _ in range(trials):\n",
        "  #Simulating the coin flip\n",
        "  coin_side = random.choice([\"head\",\"tail\"])\n",
        "  if coin_side == \"head\":\n",
        "    head += 1\n",
        "probability_of_head = head / trials\n",
        "print(probability_of_head)"
      ],
      "metadata": {
        "colab": {
          "base_uri": "https://localhost:8080/"
        },
        "id": "yJbANAtyJXOk",
        "outputId": "2848882e-3605-47ef-fdac-2fcbe63f4d9e"
      },
      "execution_count": null,
      "outputs": [
        {
          "output_type": "stream",
          "name": "stdout",
          "text": [
            "0.56\n"
          ]
        }
      ]
    },
    {
      "cell_type": "markdown",
      "source": [
        "##**CONDITIONAL PROBABILITY**"
      ],
      "metadata": {
        "id": "e3RhzubTNcxI"
      }
    },
    {
      "cell_type": "markdown",
      "source": [
        "A card drawn at random from a standard deck of cards is found to be a face card.\n",
        "What is the probability that the card is a King card?"
      ],
      "metadata": {
        "id": "UNg5Hc3KTLoY"
      }
    },
    {
      "cell_type": "code",
      "source": [
        "total_cards = 52\n",
        "face_cards = 12\n",
        "king_cards = 4\n",
        "\n",
        "probability_of_face_card = face_cards / total_cards\n",
        "#king card is also a face card. so K = F AND K\n",
        "probability_of_king_card = king_cards / total_cards\n",
        "\n",
        "probability_of_king_given_face = probability_of_king_card / probability_of_face_card\n",
        "\n",
        "print(probability_of_king_given_face)"
      ],
      "metadata": {
        "colab": {
          "base_uri": "https://localhost:8080/"
        },
        "id": "oV80aQ1UNk4u",
        "outputId": "134a1d1f-70cb-4e73-9ff0-ac3aae334298"
      },
      "execution_count": null,
      "outputs": [
        {
          "output_type": "stream",
          "name": "stdout",
          "text": [
            "0.3333333333333333\n"
          ]
        }
      ]
    },
    {
      "cell_type": "markdown",
      "source": [
        "Out of 100 days, it rained on 30 days.\n",
        "On 25 of those rainy days, a person carried an umbrella.\n",
        "What is the probability that they carried an umbrella given that it was raining?"
      ],
      "metadata": {
        "id": "VXSli-WtPq9y"
      }
    },
    {
      "cell_type": "code",
      "source": [
        "total_days = 100\n",
        "\n",
        "rainy_days = 30\n",
        "probability_of_rain = rainy_days / total_days\n",
        "\n",
        "umbrella_in_rainy_days = 25\n",
        "probability_of_rain_and_umbrella = umbrella_in_rainy_days / total_days\n",
        "\n",
        "probability_umbrella_given_rain = probability_of_rain_and_umbrella / probability_of_rain\n",
        "\n",
        "print(probability_umbrella_given_rain)"
      ],
      "metadata": {
        "colab": {
          "base_uri": "https://localhost:8080/"
        },
        "id": "FM4PHzXwP-XW",
        "outputId": "bbadece7-7f94-43a5-bf7a-d7fdda34cca5"
      },
      "execution_count": null,
      "outputs": [
        {
          "output_type": "stream",
          "name": "stdout",
          "text": [
            "0.8333333333333334\n"
          ]
        }
      ]
    },
    {
      "cell_type": "markdown",
      "source": [
        "##**ADDITION RULE**"
      ],
      "metadata": {
        "id": "XYjko-3QR4u4"
      }
    },
    {
      "cell_type": "code",
      "source": [
        "#Mutually exclusive events\n",
        "\n",
        "#Rolling a die\n",
        "prob_even = 3/6\n",
        "prob_one = 1/6\n",
        "\n",
        "prob_even_or_one = prob_even + prob_one\n",
        "print(prob_even_or_one)"
      ],
      "metadata": {
        "colab": {
          "base_uri": "https://localhost:8080/"
        },
        "id": "6rMsz_0FR8Io",
        "outputId": "1fbe9132-f7e5-41aa-b32b-7cc78387f63d"
      },
      "execution_count": null,
      "outputs": [
        {
          "output_type": "stream",
          "name": "stdout",
          "text": [
            "0.6666666666666666\n"
          ]
        }
      ]
    },
    {
      "cell_type": "markdown",
      "source": [
        "##**MULTIPLICATION RULE**"
      ],
      "metadata": {
        "id": "8BeKHwR7Tk2S"
      }
    },
    {
      "cell_type": "markdown",
      "source": [
        "###Independent events"
      ],
      "metadata": {
        "id": "g1DZ9UtVVVHd"
      }
    },
    {
      "cell_type": "code",
      "source": [
        "prob_head = 0.5\n",
        "prob_two_heads = prob_head * prob_head\n",
        "print(prob_two_heads)"
      ],
      "metadata": {
        "colab": {
          "base_uri": "https://localhost:8080/"
        },
        "id": "M4uDnuwQToLK",
        "outputId": "bffc0b65-721b-451d-afef-fd4e00cc7d62"
      },
      "execution_count": null,
      "outputs": [
        {
          "output_type": "stream",
          "name": "stdout",
          "text": [
            "0.25\n"
          ]
        }
      ]
    },
    {
      "cell_type": "markdown",
      "source": [
        "Calculate the probability of rolling a 6 twice in a row with a six-sided die. Print the result."
      ],
      "metadata": {
        "id": "NUldrW70Tv6p"
      }
    },
    {
      "cell_type": "code",
      "source": [
        "prob_6 = 1/6\n",
        "prob_6_twice = prob_6 * prob_6\n",
        "print(prob_6_twice)"
      ],
      "metadata": {
        "colab": {
          "base_uri": "https://localhost:8080/"
        },
        "id": "qjv8ztF3T5si",
        "outputId": "d02f062a-e4b9-41da-ef58-882b536d8f7c"
      },
      "execution_count": null,
      "outputs": [
        {
          "output_type": "stream",
          "name": "stdout",
          "text": [
            "0.027777777777777776\n"
          ]
        }
      ]
    },
    {
      "cell_type": "markdown",
      "source": [
        "What is the probabilty of getting head on a coin toss and 7 on a 6-sided die roll?"
      ],
      "metadata": {
        "id": "LSg9u059U1Eq"
      }
    },
    {
      "cell_type": "code",
      "source": [
        "prob_head = 0.5\n",
        "prob_7 = 0  #since there is no 7 on a die\n",
        "\n",
        "prob_head_and_7 = prob_head * prob_7\n",
        "print(prob_head_and_7)"
      ],
      "metadata": {
        "colab": {
          "base_uri": "https://localhost:8080/"
        },
        "id": "UJWhZMGeU7WK",
        "outputId": "92a8d550-69d9-4278-cea0-b72435d5ca81"
      },
      "execution_count": null,
      "outputs": [
        {
          "output_type": "stream",
          "name": "stdout",
          "text": [
            "0.0\n"
          ]
        }
      ]
    },
    {
      "cell_type": "markdown",
      "source": [
        "###Dependent Events"
      ],
      "metadata": {
        "id": "9wvFBlt3VcLK"
      }
    },
    {
      "cell_type": "markdown",
      "source": [
        "Lets calculate the probability of drawing two aces from a card without replacement."
      ],
      "metadata": {
        "id": "gEV2ijDWVlgV"
      }
    },
    {
      "cell_type": "code",
      "source": [
        "total_cards = 52\n",
        "ace_cards = 4\n",
        "\n",
        "prob_first_ace = ace_cards / total_cards\n",
        "prob_second_ace = (ace_cards - 1) / (total_cards - 1)\n",
        "\n",
        "prob_two_aces = prob_first_ace * prob_second_ace\n",
        "print(prob_two_aces)"
      ],
      "metadata": {
        "colab": {
          "base_uri": "https://localhost:8080/"
        },
        "id": "qjotdMVfViEd",
        "outputId": "3020885a-713a-4042-a3f8-efdf710b3229"
      },
      "execution_count": null,
      "outputs": [
        {
          "output_type": "stream",
          "name": "stdout",
          "text": [
            "0.004524886877828055\n"
          ]
        }
      ]
    },
    {
      "cell_type": "markdown",
      "source": [
        "#**SOME SOLVED PROBLEMS**"
      ],
      "metadata": {
        "id": "OeyAigGwKLqL"
      }
    },
    {
      "cell_type": "markdown",
      "source": [
        "1. Calculate the theoretical probability of drawing a red card from a standard deck of 52 cards (26 red cards). print the result"
      ],
      "metadata": {
        "id": "ueJkScLkKQPO"
      }
    },
    {
      "cell_type": "code",
      "source": [
        "red_cards = 26\n",
        "total_cards = 52\n",
        "probability_of_red_cards = red_cards / total_cards\n",
        "print(f\"The probability of drawing a red card is {probability_of_red_cards}.\")"
      ],
      "metadata": {
        "colab": {
          "base_uri": "https://localhost:8080/"
        },
        "id": "ZHw5zZxMKPQ7",
        "outputId": "0cad8262-1f54-4724-ef5b-2d40c4315a73"
      },
      "execution_count": null,
      "outputs": [
        {
          "output_type": "stream",
          "name": "stdout",
          "text": [
            "The probability of drawing a red card is 0.5.\n"
          ]
        }
      ]
    },
    {
      "cell_type": "markdown",
      "source": [
        "2. Out of 80 students, 50 studied for the exam.\n",
        "Out of those 50, 45 passed.\n",
        "What is the probability that the student passed given that they studied?"
      ],
      "metadata": {
        "id": "1TLkCZIWQywx"
      }
    },
    {
      "cell_type": "code",
      "source": [
        "total_students = 80\n",
        "students_who_studied = 50\n",
        "students_who_studied_and_passed = 45\n",
        "\n",
        "probability_studied = students_who_studied / total_students\n",
        "probability_studied_and_passed = students_who_studied_and_passed / total_students\n",
        "\n",
        "probability_passed_given_studied = probability_studied_and_passed / probability_studied\n",
        "\n",
        "print(probability_passed_given_studied)"
      ],
      "metadata": {
        "colab": {
          "base_uri": "https://localhost:8080/"
        },
        "id": "WO8seL6ARC9n",
        "outputId": "44d57b5b-bf27-482d-86f7-a11b6f34922b"
      },
      "execution_count": null,
      "outputs": [
        {
          "output_type": "stream",
          "name": "stdout",
          "text": [
            "0.9\n"
          ]
        }
      ]
    },
    {
      "cell_type": "markdown",
      "source": [
        "3. Calculate the probability of drawing a heart or a club from a deck. Print the result."
      ],
      "metadata": {
        "id": "tOTXoCfXSTwF"
      }
    },
    {
      "cell_type": "code",
      "source": [
        "hearts = 13\n",
        "clubs = 13\n",
        "total_cards = 52\n",
        "probability_of_hearts = hearts / total_cards\n",
        "probability_of_clubs = clubs / total_cards\n",
        "\n",
        "#since they are mutually exclusive\n",
        "probability_of_hearts_or_clubs = probability_of_hearts + probability_of_clubs\n",
        "print(f\"The probability of drawing a heart or a club is {probability_of_hearts_or_clubs}.\")"
      ],
      "metadata": {
        "id": "I8kXNvYcKrj2",
        "colab": {
          "base_uri": "https://localhost:8080/"
        },
        "outputId": "e53ea920-2d3e-41f0-e637-e1c2103f7a41"
      },
      "execution_count": null,
      "outputs": [
        {
          "output_type": "stream",
          "name": "stdout",
          "text": [
            "The probability of drawing a heart or a club is 0.5.\n"
          ]
        }
      ]
    },
    {
      "cell_type": "markdown",
      "source": [
        "4. What is the probabilty of getting head on a coin toss and 7 on a 12-sided die roll?"
      ],
      "metadata": {
        "id": "3r4Ua4cBUAlq"
      }
    },
    {
      "cell_type": "code",
      "source": [
        "prob_head = 0.5\n",
        "prob_7 = 1/12\n",
        "\n",
        "prob_head_and_7 = prob_head * prob_7\n",
        "print(prob_head_and_7)"
      ],
      "metadata": {
        "colab": {
          "base_uri": "https://localhost:8080/"
        },
        "id": "ozWAy14KSfHn",
        "outputId": "d67f97a1-d559-437e-8141-03bb5be9515e"
      },
      "execution_count": null,
      "outputs": [
        {
          "output_type": "stream",
          "name": "stdout",
          "text": [
            "0.041666666666666664\n"
          ]
        }
      ]
    },
    {
      "cell_type": "markdown",
      "source": [
        "5. Calculate the probability of drawing two red cards without replacements from a standard deck of cards. Print the result."
      ],
      "metadata": {
        "id": "Ddw38k-uWOQv"
      }
    },
    {
      "cell_type": "code",
      "source": [
        "total_cards = 52\n",
        "red_cards = 26\n",
        "\n",
        "prob_first_red_card = red_cards / total_cards\n",
        "prob_second_red_card = (red_cards - 1) / (total_cards - 1)\n",
        "\n",
        "prob_two_red_cards = prob_first_red_card * prob_second_red_card\n",
        "print(prob_two_red_cards)"
      ],
      "metadata": {
        "colab": {
          "base_uri": "https://localhost:8080/"
        },
        "id": "NR8y3DeJUeDp",
        "outputId": "b4504f3f-d441-49da-a04f-1363e93c7268"
      },
      "execution_count": null,
      "outputs": [
        {
          "output_type": "stream",
          "name": "stdout",
          "text": [
            "0.24509803921568626\n"
          ]
        }
      ]
    },
    {
      "cell_type": "markdown",
      "source": [
        "5. Calculate the probability of drawing two red cards with replacements from a standard deck of cards. Print the result."
      ],
      "metadata": {
        "id": "yzCTbPTVWzB4"
      }
    },
    {
      "cell_type": "code",
      "source": [
        "total_cards = 52\n",
        "red_cards = 26\n",
        "\n",
        "prob_first_red_card = red_cards / total_cards\n",
        "prob_second_red_card = (red_cards) / (total_cards - 1)\n",
        "\n",
        "prob_two_red_cards = prob_first_red_card * prob_second_red_card\n",
        "print(prob_two_red_cards)"
      ],
      "metadata": {
        "colab": {
          "base_uri": "https://localhost:8080/"
        },
        "id": "lKvTIq6DWkcs",
        "outputId": "ec2481e6-6abf-469b-c8af-8748b571a11f"
      },
      "execution_count": null,
      "outputs": [
        {
          "output_type": "stream",
          "name": "stdout",
          "text": [
            "0.2549019607843137\n"
          ]
        }
      ]
    },
    {
      "cell_type": "markdown",
      "source": [
        "![WhatsApp Image 2025-06-06 at 14.14.37_a15bc867.jpg](data:image/jpeg;base64,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)"
      ],
      "metadata": {
        "id": "Q6oAwSGTXFXn"
      }
    },
    {
      "cell_type": "code",
      "source": [
        "total = 6\n",
        "less_than_3 = 2\n",
        "\n",
        "prob = less_than_3 / total\n",
        "print(prob)"
      ],
      "metadata": {
        "colab": {
          "base_uri": "https://localhost:8080/"
        },
        "id": "3KaYDMS8W2_z",
        "outputId": "fc152cf6-f1d6-4c41-ab0d-2d6364bacae8"
      },
      "execution_count": null,
      "outputs": [
        {
          "output_type": "stream",
          "name": "stdout",
          "text": [
            "0.3333333333333333\n"
          ]
        }
      ]
    },
    {
      "cell_type": "code",
      "source": [
        "import random\n",
        "\n",
        "trials = 200\n",
        "tails = 0\n",
        "\n",
        "for _ in range(200):\n",
        "  if random.choice([\"heads\",\"tails\"]) == \"tails\":\n",
        "    tails += 1\n",
        "\n",
        "prob = tails / total\n",
        "print(prob)"
      ],
      "metadata": {
        "colab": {
          "base_uri": "https://localhost:8080/"
        },
        "id": "QkrBcwZaXXWP",
        "outputId": "cf820dd5-5c2d-489d-e151-03522d25d2de"
      },
      "execution_count": null,
      "outputs": [
        {
          "output_type": "stream",
          "name": "stdout",
          "text": [
            "18.0\n"
          ]
        }
      ]
    },
    {
      "cell_type": "code",
      "source": [
        "face_cards = 12\n",
        "queen_cards = 4\n",
        "total_cards = 52\n",
        "\n",
        "probability_of_face_card = face_cards / total_cards\n",
        "probability_of_queen_card = queen_cards / total_cards\n",
        "\n",
        "prob_queen_given_face = probabability_of_queen_card / probability_of_face_card\n",
        "print(proba_queen_given_face)"
      ],
      "metadata": {
        "id": "u098APpeXp7v"
      },
      "execution_count": null,
      "outputs": []
    },
    {
      "cell_type": "code",
      "source": [
        "three = 1\n",
        "five = 1\n",
        "total = 6\n",
        "\n",
        "prob_3 = three/total\n",
        "prob_5 = five/total\n",
        "\n",
        "prob_3_or_5 = prob_3 + prob_5\n",
        "print(prob_3_or_5)"
      ],
      "metadata": {
        "colab": {
          "base_uri": "https://localhost:8080/"
        },
        "id": "eC0fkWVdiNYX",
        "outputId": "edb39057-d2ed-4397-c715-d2ca01fc8939"
      },
      "execution_count": 48,
      "outputs": [
        {
          "output_type": "stream",
          "name": "stdout",
          "text": [
            "0.3333333333333333\n"
          ]
        }
      ]
    },
    {
      "cell_type": "code",
      "source": [
        "total_cards = 52\n",
        "red_cards = 26\n",
        "black_cards = 26\n",
        "\n",
        "#first red card\n",
        "prob_red = red_cards / total_cards\n",
        "#reduce the total number of cards\n",
        "total_cards -= 1\n",
        "\n",
        "#second black card\n",
        "prob_black = black_cards / total_cards\n",
        "\n",
        "prob = prob_red * prob_black\n",
        "print(prob)"
      ],
      "metadata": {
        "colab": {
          "base_uri": "https://localhost:8080/"
        },
        "id": "O-JIb1SPixf9",
        "outputId": "ec99ac95-a126-4228-ab65-9a7371f562c5"
      },
      "execution_count": 50,
      "outputs": [
        {
          "output_type": "stream",
          "name": "stdout",
          "text": [
            "0.2549019607843137\n"
          ]
        }
      ]
    },
    {
      "cell_type": "code",
      "source": [],
      "metadata": {
        "id": "zcmVFXt1jVml"
      },
      "execution_count": null,
      "outputs": []
    }
  ]
}