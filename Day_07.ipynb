{
  "nbformat": 4,
  "nbformat_minor": 0,
  "metadata": {
    "colab": {
      "provenance": [],
      "authorship_tag": "ABX9TyMFXjTvdFMESKjUQe4WdVch",
      "include_colab_link": true
    },
    "kernelspec": {
      "name": "python3",
      "display_name": "Python 3"
    },
    "language_info": {
      "name": "python"
    }
  },
  "cells": [
    {
      "cell_type": "markdown",
      "metadata": {
        "id": "view-in-github",
        "colab_type": "text"
      },
      "source": [
        "<a href=\"https://colab.research.google.com/github/nirjalalala/learn_ml/blob/main/Day_07.ipynb\" target=\"_parent\"><img src=\"https://colab.research.google.com/assets/colab-badge.svg\" alt=\"Open In Colab\"/></a>"
      ]
    },
    {
      "cell_type": "markdown",
      "source": [
        "#**Creating a numpy array and its attributes**"
      ],
      "metadata": {
        "id": "PSE-2dk_D6E5"
      }
    },
    {
      "cell_type": "code",
      "source": [
        "#Importing numpy library\n",
        "import numpy as np"
      ],
      "metadata": {
        "id": "Tjt9DsAoGAkL"
      },
      "execution_count": 1,
      "outputs": []
    },
    {
      "cell_type": "code",
      "source": [
        "#creating a list named \"my_list\"\n",
        "my_list = [1,2,3,4,5]\n",
        "\n",
        "#Creating a 1-D numpy array from \"my_list\"\n",
        "my_arr = np.array(my_list)\n",
        "\n",
        "#creating a 0-D array\n",
        "arr_0d = np.array(42)\n",
        "print(\"\\n0-D array:\")\n",
        "print(arr_0d)\n",
        "\n",
        "#creating a 2-D array\n",
        "arr_2d = np.array([[1,2,3,4,5],[6,7,8,9,10]])\n",
        "print(\"\\n2-D array:\")\n",
        "print(arr_2d)\n",
        "\n",
        " #creating a 3_D array\n",
        "arr_3d = np.array([[[1,2,3],[4,5,6]],[[7,8,9],[10,11,12]]])\n",
        "print(\"\\n3-D array:\")\n",
        "print(arr_3d)"
      ],
      "metadata": {
        "colab": {
          "base_uri": "https://localhost:8080/"
        },
        "id": "bCRX4g5IDDG5",
        "outputId": "2e2d1b6e-8f31-4976-f63d-92fbdd7b9191"
      },
      "execution_count": null,
      "outputs": [
        {
          "output_type": "stream",
          "name": "stdout",
          "text": [
            "\n",
            "0-D array:\n",
            "42\n",
            "\n",
            "2-D array:\n",
            "[[ 1  2  3  4  5]\n",
            " [ 6  7  8  9 10]]\n",
            "\n",
            "3-D array:\n",
            "[[[ 1  2  3]\n",
            "  [ 4  5  6]]\n",
            "\n",
            " [[ 7  8  9]\n",
            "  [10 11 12]]]\n"
          ]
        }
      ]
    },
    {
      "cell_type": "code",
      "source": [
        "#creating array and its attributes\n",
        "arr = np.array([[1,2,3],[4,5,6]])\n",
        "print(\"\\nArray :\",end=\"\\t\")\n",
        "print(arr)\n",
        "print(\"\\n Shape:\",end=\"\\t\")\n",
        "print(arr.shape)\n",
        "print(\"\\n No. of dimensions:\",end=\"\\t\")\n",
        "print(arr.ndim)\n",
        "print(\"\\n Data Type:\",end=\"\\t\")\n",
        "print(arr.dtype)\n",
        "print(\"\\n Size:\",end=\"\\t\")\n",
        "print(arr.size)\n",
        "print(\"\\n Item size:\",end=\"\\t\")\n",
        "print(arr.itemsize)"
      ],
      "metadata": {
        "colab": {
          "base_uri": "https://localhost:8080/"
        },
        "id": "v-Y7V9OyDuWr",
        "outputId": "8aafd826-d33e-4fa2-a946-1fc8dd96267f"
      },
      "execution_count": null,
      "outputs": [
        {
          "output_type": "stream",
          "name": "stdout",
          "text": [
            "\n",
            "Array :\n",
            "[[1 2 3]\n",
            " [4 5 6]]\n",
            "\n",
            " Shape:\t(2, 3)\n",
            "\n",
            " No. of dimensions:\t2\n",
            "\n",
            " Data Type:\tint64\n",
            "\n",
            " Size:\t6\n",
            "\n",
            " Item size:\t8\n"
          ]
        }
      ]
    },
    {
      "cell_type": "markdown",
      "source": [
        "#**Accessing and Manipulating array elements**"
      ],
      "metadata": {
        "id": "MuxnfpcDGT-q"
      }
    },
    {
      "cell_type": "code",
      "source": [
        "#Accessing 1-D array elements\n",
        "my_arr = np.arange(1,10)  # from 1 to 9\n",
        "print(my_arr[2])  #third element in the array"
      ],
      "metadata": {
        "colab": {
          "base_uri": "https://localhost:8080/"
        },
        "id": "36atiGmhGxLZ",
        "outputId": "373def0a-2dc2-4207-b5a3-1b1c8794f0ed"
      },
      "execution_count": null,
      "outputs": [
        {
          "output_type": "stream",
          "name": "stdout",
          "text": [
            "3\n"
          ]
        }
      ]
    },
    {
      "cell_type": "code",
      "source": [
        "#Accessing 2-D array elements\n",
        "my_arr = np.array([[1,2,3,4,5],[6,7,8,9,10]])\n",
        "print(my_arr[1,2])"
      ],
      "metadata": {
        "colab": {
          "base_uri": "https://localhost:8080/"
        },
        "id": "vdKuMHf3HrYV",
        "outputId": "eeb37090-8985-415c-ea73-21a09ca8f109"
      },
      "execution_count": null,
      "outputs": [
        {
          "output_type": "stream",
          "name": "stdout",
          "text": [
            "8\n"
          ]
        }
      ]
    },
    {
      "cell_type": "code",
      "source": [
        "#Accessing 3-D array elements\n",
        "my_arr = np.array([[[1,2,3],[4,5,6]],[[7,8,9],[10,11,12]]])\n",
        "print(my_arr[1,1,2])"
      ],
      "metadata": {
        "colab": {
          "base_uri": "https://localhost:8080/"
        },
        "id": "9VxjBCCKH1U-",
        "outputId": "f72affec-043b-4b70-8081-a62b8bf0902c"
      },
      "execution_count": null,
      "outputs": [
        {
          "output_type": "stream",
          "name": "stdout",
          "text": [
            "12\n"
          ]
        }
      ]
    },
    {
      "cell_type": "markdown",
      "source": [
        "##Negative Inexing"
      ],
      "metadata": {
        "id": "1zw3ZfAEIJtA"
      }
    },
    {
      "cell_type": "code",
      "source": [
        "#Accessing 2-D array elements\n",
        "my_arr = np.array([[1,2,3,4,5],[6,7,8,9,10]])\n",
        "print(my_arr[1,-2])   # second row, second-last element"
      ],
      "metadata": {
        "colab": {
          "base_uri": "https://localhost:8080/"
        },
        "id": "iOaZWKCuIHEF",
        "outputId": "bc99249e-0269-4901-fc43-6ac4d3089b0a"
      },
      "execution_count": null,
      "outputs": [
        {
          "output_type": "stream",
          "name": "stdout",
          "text": [
            "9\n"
          ]
        }
      ]
    },
    {
      "cell_type": "markdown",
      "source": [
        "##Slicing Arrays"
      ],
      "metadata": {
        "id": "e9pid1RIIrbz"
      }
    },
    {
      "cell_type": "code",
      "source": [
        "arr = np.arange(1,22,2) #odd numbers from 1 to 22\n",
        "\n",
        "#Slicing\n",
        "print(arr[1:5])   #elements from index 1 to 4\n",
        "\n",
        "#Slicing with step\n",
        "print(arr[1:5:2]) #elements from index 1 to 4 with step 2\n",
        "\n",
        "#slicing with negative index\n",
        "print(arr[3:-1]) #elements from index 3 to -1\n",
        "print(arr[-3:-1]) #elements from index -3 to -1"
      ],
      "metadata": {
        "colab": {
          "base_uri": "https://localhost:8080/"
        },
        "id": "69M5cghuIRpz",
        "outputId": "5cdcc833-6c13-418e-8a55-e49458b064cc"
      },
      "execution_count": null,
      "outputs": [
        {
          "output_type": "stream",
          "name": "stdout",
          "text": [
            "[3 5 7 9]\n",
            "[3 7]\n",
            "[ 7  9 11 13 15 17 19]\n",
            "[17 19]\n"
          ]
        }
      ]
    },
    {
      "cell_type": "code",
      "source": [
        "#Slicing a 2-D numpy array\n",
        "\n",
        "arr = np.arange(1,11).reshape(5,2)\n",
        "print(arr)\n",
        "\n",
        "print(\"\\nAfter Slicing:\")\n",
        "print(arr[1:4,0:2])  #row 1 to row 3  , Column 0 to Column 1"
      ],
      "metadata": {
        "colab": {
          "base_uri": "https://localhost:8080/"
        },
        "id": "PbK45riQI7tN",
        "outputId": "1fd8953d-293a-45bd-e635-1cdf82e3bf1a"
      },
      "execution_count": null,
      "outputs": [
        {
          "output_type": "stream",
          "name": "stdout",
          "text": [
            "[[ 1  2]\n",
            " [ 3  4]\n",
            " [ 5  6]\n",
            " [ 7  8]\n",
            " [ 9 10]]\n",
            "\n",
            "After Slicing:\n",
            "[[3 4]\n",
            " [5 6]\n",
            " [7 8]]\n"
          ]
        }
      ]
    },
    {
      "cell_type": "code",
      "source": [
        "#Slicing a 3-D numpy array\n",
        "arr = np.arange(1,28).reshape(3,3,3)\n",
        "print(arr)\n",
        "\n",
        "print(\"\\nAfter Slicing:\")\n",
        "print(arr[1:3,:2,-2:-1])"
      ],
      "metadata": {
        "colab": {
          "base_uri": "https://localhost:8080/"
        },
        "id": "_t5Flz8ANPrD",
        "outputId": "ddfb0278-3479-4776-a40f-b69875324efc"
      },
      "execution_count": null,
      "outputs": [
        {
          "output_type": "stream",
          "name": "stdout",
          "text": [
            "[[[ 1  2  3]\n",
            "  [ 4  5  6]\n",
            "  [ 7  8  9]]\n",
            "\n",
            " [[10 11 12]\n",
            "  [13 14 15]\n",
            "  [16 17 18]]\n",
            "\n",
            " [[19 20 21]\n",
            "  [22 23 24]\n",
            "  [25 26 27]]]\n",
            "\n",
            "After Slicing:\n",
            "[[[11]\n",
            "  [14]]\n",
            "\n",
            " [[20]\n",
            "  [23]]]\n"
          ]
        }
      ]
    },
    {
      "cell_type": "markdown",
      "source": [
        "#**Solved Questions**"
      ],
      "metadata": {
        "id": "86SH6X_pKagd"
      }
    },
    {
      "cell_type": "markdown",
      "source": [
        "1. Create a NumPy array from the list [7,14,21,28]. Print the array."
      ],
      "metadata": {
        "id": "P5Sl_Mx6KhUx"
      }
    },
    {
      "cell_type": "code",
      "source": [
        "arr = np.array([7,14,21,28])\n",
        "print(arr)"
      ],
      "metadata": {
        "colab": {
          "base_uri": "https://localhost:8080/"
        },
        "id": "asLBZIeHJ9NC",
        "outputId": "d184f3e0-2651-4f30-d2ea-52ee30790963"
      },
      "execution_count": null,
      "outputs": [
        {
          "output_type": "stream",
          "name": "stdout",
          "text": [
            "[ 7 14 21 28]\n"
          ]
        }
      ]
    },
    {
      "cell_type": "markdown",
      "source": [
        "2. Create a 2D NumPy array [[5,10,15],[20,25,30]]. Print its shape and number of dimensions."
      ],
      "metadata": {
        "id": "42BGf6GWKxyC"
      }
    },
    {
      "cell_type": "code",
      "source": [
        "arr = np.array([[5,10,15],[20,25,30]])\n",
        "print(arr.shape)\n",
        "print(arr.ndim)"
      ],
      "metadata": {
        "colab": {
          "base_uri": "https://localhost:8080/"
        },
        "id": "bHkwHrZ0Kw2g",
        "outputId": "09d7494a-33a9-43a7-9c8d-7d5ca648ad06"
      },
      "execution_count": null,
      "outputs": [
        {
          "output_type": "stream",
          "name": "stdout",
          "text": [
            "(2, 3)\n",
            "2\n"
          ]
        }
      ]
    },
    {
      "cell_type": "markdown",
      "source": [
        "3. Use np.zeros to create a 2D array of shape (2,3). Then, use np.arange to create an array from 0 to 12 with a step of 3. Print both arrays."
      ],
      "metadata": {
        "id": "fV28qamYLGk6"
      }
    },
    {
      "cell_type": "code",
      "source": [
        "a = np.zeros((2,3))\n",
        "b = np.arange(0,13,3)\n",
        "print(a)\n",
        "print(\"\\n\")\n",
        "print(b)"
      ],
      "metadata": {
        "colab": {
          "base_uri": "https://localhost:8080/"
        },
        "id": "bTSscZ7oLFwR",
        "outputId": "ab79fafd-72b7-486f-e32c-bdc268d8b7a4"
      },
      "execution_count": null,
      "outputs": [
        {
          "output_type": "stream",
          "name": "stdout",
          "text": [
            "[[0. 0. 0.]\n",
            " [0. 0. 0.]]\n",
            "\n",
            "\n",
            "[ 0  3  6  9 12]\n"
          ]
        }
      ]
    },
    {
      "cell_type": "markdown",
      "source": [
        "4. Create a NumPy array [2,4,6,8]. Multiply all elements by 3 and print the result."
      ],
      "metadata": {
        "id": "_FCKsHz5Lkgb"
      }
    },
    {
      "cell_type": "code",
      "source": [
        "a = np.array([2,4,6,8])\n",
        "b = a*3\n",
        "print(b)\n"
      ],
      "metadata": {
        "colab": {
          "base_uri": "https://localhost:8080/"
        },
        "id": "KeiYCtn6LezZ",
        "outputId": "0613457c-7d84-4f0e-8e22-8ea08d838829"
      },
      "execution_count": null,
      "outputs": [
        {
          "output_type": "stream",
          "name": "stdout",
          "text": [
            "[ 6 12 18 24]\n"
          ]
        }
      ]
    },
    {
      "cell_type": "markdown",
      "source": [
        "5. Create a NumPy array [1,3,5,7,9,11]. Print the third element and a slice from index 1 to 3 (inclusive)."
      ],
      "metadata": {
        "id": "D8WAWiWwL0h1"
      }
    },
    {
      "cell_type": "code",
      "source": [
        "a = np.arange(1,12,2)\n",
        "print(\"Third element = \", end = \" \")\n",
        "print(a[2])\n",
        "print(\"\\nSlice form index 1 to 3 (inclusive) =\", end= \" \")\n",
        "print(a[1:4])"
      ],
      "metadata": {
        "colab": {
          "base_uri": "https://localhost:8080/"
        },
        "id": "A7CRafhTLwAd",
        "outputId": "c8ebf0ad-bf9e-4acb-9195-f89732b549ee"
      },
      "execution_count": null,
      "outputs": [
        {
          "output_type": "stream",
          "name": "stdout",
          "text": [
            "Third element =  5\n",
            "\n",
            " Slice form index 1 to 3 (inclusive) = [3 5 7]\n"
          ]
        }
      ]
    },
    {
      "cell_type": "markdown",
      "source": [
        "#**Intermediate NumPy Questions**"
      ],
      "metadata": {
        "id": "WVFmacu7cwD_"
      }
    },
    {
      "cell_type": "markdown",
      "source": [
        "1. Create a 2D Numpy array of shape (3,3) with random integers between 1 and 10 (inclusive) using np.random.randint. Then, replace all values greater than 5 aith 0 and print the modified array."
      ],
      "metadata": {
        "id": "UKBE8i0Hcz0X"
      }
    },
    {
      "cell_type": "code",
      "source": [
        "arr = np.random.randint(1,11,(3,3))\n",
        "print(arr)\n",
        "arr[arr>5] = 0\n",
        "print(\"\\nModified array:\")\n",
        "print(arr)\n"
      ],
      "metadata": {
        "colab": {
          "base_uri": "https://localhost:8080/"
        },
        "id": "cT77u8PLczAd",
        "outputId": "dd74f53d-6749-4116-8906-291cf2c09cf8"
      },
      "execution_count": null,
      "outputs": [
        {
          "output_type": "stream",
          "name": "stdout",
          "text": [
            "[[9 2 5]\n",
            " [9 1 2]\n",
            " [9 4 9]]\n",
            "\n",
            "Modified array:\n",
            "[[0 2 5]\n",
            " [0 1 2]\n",
            " [0 4 0]]\n"
          ]
        }
      ]
    },
    {
      "cell_type": "markdown",
      "source": [
        "2. Create two 1D NumPy arrays: [2,4,6,8] and [1,3,5,7]. Compute the element-wise sum and the dot product of the two arrays. Print both results.\n"
      ],
      "metadata": {
        "id": "_U5tO0HAdeBd"
      }
    },
    {
      "cell_type": "code",
      "source": [
        "a = np.array([2,4,6,8])\n",
        "b = np.array([1,3,5,7])\n",
        "\n",
        "sum = a+b\n",
        "product = a*b\n",
        "print(sum)\n",
        "print(product)"
      ],
      "metadata": {
        "colab": {
          "base_uri": "https://localhost:8080/"
        },
        "id": "BSDglX5xdUhm",
        "outputId": "6caab073-53b2-4dbf-bc01-9890e6c9e953"
      },
      "execution_count": null,
      "outputs": [
        {
          "output_type": "stream",
          "name": "stdout",
          "text": [
            "[ 3  7 11 15]\n",
            "[ 2 12 30 56]\n"
          ]
        }
      ]
    },
    {
      "cell_type": "markdown",
      "source": [
        "3. Create a 2D NumPy array of shape (4,3) filled with ones using np.ones. Then, add a 1D array [10,20,30] to each row of the 2D array using broadcadting. Print the resulting array."
      ],
      "metadata": {
        "id": "EB2duwERef0E"
      }
    },
    {
      "cell_type": "code",
      "source": [
        "a = np.ones((4,3))\n",
        "b = np.array([10,20,30])\n",
        "\n",
        "new_arr = a+b\n",
        "print(new_arr)"
      ],
      "metadata": {
        "id": "fAZGJpKyee3f",
        "colab": {
          "base_uri": "https://localhost:8080/"
        },
        "outputId": "5771aee8-2b79-4f62-ef45-16000f4b09bf"
      },
      "execution_count": 5,
      "outputs": [
        {
          "output_type": "stream",
          "name": "stdout",
          "text": [
            "[[11. 21. 31.]\n",
            " [11. 21. 31.]\n",
            " [11. 21. 31.]\n",
            " [11. 21. 31.]]\n"
          ]
        }
      ]
    },
    {
      "cell_type": "markdown",
      "source": [
        "4. Create a 2D NumPy array [[1,2,3],[4,5,6],[7,8,9]]. Extract the second column and compute its mean using np.mean. Then, reshape the original array into a 1D array and print both results."
      ],
      "metadata": {
        "id": "Yb2y8YExEKfg"
      }
    },
    {
      "cell_type": "code",
      "source": [
        "a = np.array([[1,2,3],[4,5,6],[7,8,9]])\n",
        "mean_value = np.mean(a[:,1])\n",
        "print(mean_value)\n",
        "\n",
        "new_arr = np.array(a).reshape(-1)\n",
        "print(new_arr)"
      ],
      "metadata": {
        "colab": {
          "base_uri": "https://localhost:8080/"
        },
        "id": "Oc8fDUUWEFBS",
        "outputId": "479c7d5a-4251-43a5-c022-aead385f015b"
      },
      "execution_count": 8,
      "outputs": [
        {
          "output_type": "stream",
          "name": "stdout",
          "text": [
            "5.0\n",
            "[1 2 3 4 5 6 7 8 9]\n"
          ]
        }
      ]
    },
    {
      "cell_type": "markdown",
      "source": [
        "5. Create a 1D NumPy array [10, 20, 30 ,40, 50, 60]. Use a boolean mask to select elements greater than 30, then square those elements. Print the original array and the modified array."
      ],
      "metadata": {
        "id": "rPGOe0D-FiyE"
      }
    },
    {
      "cell_type": "code",
      "source": [
        "a = np.array([10, 20, 30 ,40, 50, 60])\n",
        "mask = a>30\n",
        "new_arr = a[mask]**2\n",
        "print(a)\n",
        "print(new_arr)"
      ],
      "metadata": {
        "colab": {
          "base_uri": "https://localhost:8080/"
        },
        "id": "JTPMsxVvEuA2",
        "outputId": "ee0658ea-23f2-46d5-e7cc-5cec703cdfde"
      },
      "execution_count": 9,
      "outputs": [
        {
          "output_type": "stream",
          "name": "stdout",
          "text": [
            "[10 20 30 40 50 60]\n",
            "[1600 2500 3600]\n"
          ]
        }
      ]
    }
  ]
}