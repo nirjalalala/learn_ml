{
  "nbformat": 4,
  "nbformat_minor": 0,
  "metadata": {
    "colab": {
      "provenance": [],
      "authorship_tag": "ABX9TyO1CUHuITpfndSA1F18xc39",
      "include_colab_link": true
    },
    "kernelspec": {
      "name": "python3",
      "display_name": "Python 3"
    },
    "language_info": {
      "name": "python"
    }
  },
  "cells": [
    {
      "cell_type": "markdown",
      "metadata": {
        "id": "view-in-github",
        "colab_type": "text"
      },
      "source": [
        "<a href=\"https://colab.research.google.com/github/nirjalalala/learn_ml/blob/main/Day_08.ipynb\" target=\"_parent\"><img src=\"https://colab.research.google.com/assets/colab-badge.svg\" alt=\"Open In Colab\"/></a>"
      ]
    },
    {
      "cell_type": "markdown",
      "source": [
        "#**Pandas and Matplotlib**"
      ],
      "metadata": {
        "id": "3aipCmE8vlfA"
      }
    },
    {
      "cell_type": "markdown",
      "source": [
        "##**Creating a Pandas Series**\n",
        "\n",
        "\n",
        "---\n",
        "\n",
        "Pandas series = 1-D array with labels"
      ],
      "metadata": {
        "id": "xvLQ2iUIvvp_"
      }
    },
    {
      "cell_type": "code",
      "source": [
        "#first import the pandas module\n",
        "import pandas as pd"
      ],
      "metadata": {
        "id": "qkh2EI2jWf02"
      },
      "execution_count": null,
      "outputs": []
    },
    {
      "cell_type": "code",
      "source": [
        "scores = pd.Series([45,65,46,78,87], index =[\"Math\",\"Science\",\"English\",\"History\",\"Geography\"])\n",
        "print(scores)"
      ],
      "metadata": {
        "colab": {
          "base_uri": "https://localhost:8080/"
        },
        "id": "RmfqMCfIwCFc",
        "outputId": "933eb790-47f6-4fed-d896-3cddfcacc911"
      },
      "execution_count": null,
      "outputs": [
        {
          "output_type": "stream",
          "name": "stdout",
          "text": [
            "Math         45\n",
            "Science      65\n",
            "English      46\n",
            "History      78\n",
            "Geography    87\n",
            "dtype: int64\n"
          ]
        }
      ]
    },
    {
      "cell_type": "markdown",
      "source": [
        "##**Creating a Pandas Dataframe**\n",
        "---\n",
        "Datframe is in a tabular format."
      ],
      "metadata": {
        "id": "rJlCLyJ4w83A"
      }
    },
    {
      "cell_type": "code",
      "source": [
        "#Creating a dictionary\n",
        "data = {\n",
        "    \"Name\": [\"John\", \"Jane\", \"Bob\", \"Alice\"],\n",
        "    \"Age\": [25, 30, 35, 40],\n",
        "    \"City\": [\"New York\", \"Paris\", \"London\", \"Sydney\"]\n",
        "}\n",
        "#Turning dictionary into dataframe\n",
        "df = pd.DataFrame(data)\n",
        "\n",
        "print(\"With Index:\")\n",
        "#printing the dataframe\n",
        "print(df)\n",
        "\n",
        "print(\"\\nWithout Index:\")\n",
        "#Printing the dataframe without index.\n",
        "print(df.to_string(index=False))"
      ],
      "metadata": {
        "colab": {
          "base_uri": "https://localhost:8080/"
        },
        "id": "lW7KnzmdxA4l",
        "outputId": "eaa6571b-caff-4ba0-9ef7-920b0d545039"
      },
      "execution_count": null,
      "outputs": [
        {
          "output_type": "stream",
          "name": "stdout",
          "text": [
            "With Index:\n",
            "    Name  Age      City\n",
            "0   John   25  New York\n",
            "1   Jane   30     Paris\n",
            "2    Bob   35    London\n",
            "3  Alice   40    Sydney\n",
            "\n",
            "Without Index:\n",
            " Name  Age     City\n",
            " John   25 New York\n",
            " Jane   30    Paris\n",
            "  Bob   35   London\n",
            "Alice   40   Sydney\n"
          ]
        }
      ]
    },
    {
      "cell_type": "markdown",
      "source": [
        "##**Filtering a DataFrame**"
      ],
      "metadata": {
        "id": "TE5lOimyz-cw"
      }
    },
    {
      "cell_type": "code",
      "source": [
        "filtered_df = df[df[\"Age\"] > 30]\n",
        "print(filtered_df)"
      ],
      "metadata": {
        "colab": {
          "base_uri": "https://localhost:8080/"
        },
        "id": "Lal02s3p0D8g",
        "outputId": "57c4ed44-edb1-4b77-e40f-7f858653c724"
      },
      "execution_count": null,
      "outputs": [
        {
          "output_type": "stream",
          "name": "stdout",
          "text": [
            "    Name  Age    City\n",
            "2    Bob   35  London\n",
            "3  Alice   40  Sydney\n"
          ]
        }
      ]
    },
    {
      "cell_type": "markdown",
      "source": [
        "#**Reading and Processing a CSV File**"
      ],
      "metadata": {
        "id": "h3Ebh1XR1DCJ"
      }
    },
    {
      "cell_type": "code",
      "source": [
        "#importing IO module\n",
        "import io\n",
        "\n",
        "#creating a csv file\n",
        "csv_data = \"Name,Age,City\\nJohn,25,New York\\nJane,30,Paris\\nBob,35,London\\nAlice,40,Sydney\"\n",
        "\n",
        "#creating a dataframe from the csv file\n",
        "df = pd.read_csv(io.StringIO(csv_data))\n",
        "\n",
        "print(df)"
      ],
      "metadata": {
        "colab": {
          "base_uri": "https://localhost:8080/"
        },
        "id": "ApDBg87f1H9h",
        "outputId": "9311dc62-c4db-43d5-aea5-47b985962e3a"
      },
      "execution_count": null,
      "outputs": [
        {
          "output_type": "stream",
          "name": "stdout",
          "text": [
            "    Name  Age      City\n",
            "0   John   25  New York\n",
            "1   Jane   30     Paris\n",
            "2    Bob   35    London\n",
            "3  Alice   40    Sydney\n"
          ]
        }
      ]
    },
    {
      "cell_type": "markdown",
      "source": [
        "#**Basic Plotting with Matplotlib**"
      ],
      "metadata": {
        "id": "xJqi1Ung2TyX"
      }
    },
    {
      "cell_type": "code",
      "source": [
        "import matplotlib.pyplot as plt\n",
        "\n",
        "x=[1,2,3,4,5]\n",
        "y=[2,4,6,8,10]\n",
        "\n",
        "plt.plot(x,y,marker=\"*\")\n",
        "plt.xlabel(\"X-axis\")\n",
        "plt.ylabel(\"Y-axis\")\n",
        "plt.title(\"My First Plot\")\n",
        "plt.show()"
      ],
      "metadata": {
        "colab": {
          "base_uri": "https://localhost:8080/",
          "height": 472
        },
        "id": "U4wC8rW_2gik",
        "outputId": "06388438-4497-41bd-8384-3a6266ceed92"
      },
      "execution_count": null,
      "outputs": [
        {
          "output_type": "display_data",
          "data": {
            "text/plain": [
              "<Figure size 640x480 with 1 Axes>"
            ],
            "image/png": "[encoded data removed]"
          },
          "metadata": {}
        }
      ]
    },
    {
      "cell_type": "code",
      "source": [
        "import numpy as np\n",
        "\n",
        "#continuous values of X\n",
        "x = np.arange(-2,2.1,0.1)\n",
        "# y = square of x.\n",
        "y = x ** 2\n",
        "\n",
        "#plot x,y values and add labels and title\n",
        "plt.plot(x,y)\n",
        "plt.xlabel(\"X-axis\")\n",
        "plt.ylabel(\"Y-axis\")\n",
        "plt.title(\"Quadratic Equation  Y=x^2\")\n",
        "\n",
        "#To show grid\n",
        "plt.grid(True)\n",
        "\n",
        "#To show the plot  , Not needed in colab.\n",
        "# plt.show()\n",
        "\n",
        "plt.savefig(\"quadratic.png\")"
      ],
      "metadata": {
        "colab": {
          "base_uri": "https://localhost:8080/",
          "height": 472
        },
        "id": "ZTscY0MQ3Ay7",
        "outputId": "42ee91c2-cc58-46ce-c2b4-cee4422f7ac8"
      },
      "execution_count": 26,
      "outputs": [
        {
          "output_type": "display_data",
          "data": {
            "text/plain": [
              "<Figure size 640x480 with 1 Axes>"
            ],
            "image/png": "[encoded data removed]"
          },
          "metadata": {}
        }
      ]
    },
    {
      "cell_type": "markdown",
      "source": [
        "#**Visualizing a DataFrame with Matplotlib**"
      ],
      "metadata": {
        "id": "AxQPgmp36B0O"
      }
    },
    {
      "cell_type": "code",
      "source": [
        "import pandas as pd\n",
        "\n",
        "#Creating a DataFrame\n",
        "\n",
        "data = {\n",
        "    \"name\": [\"John\", \"Jane\", \"Bob\", \"Alice\"],\n",
        "    \"age\": [25, 30, 35, 40],\n",
        "    \"city\": [\"New York\", \"Paris\", \"London\", \"Sydney\"]\n",
        "}\n",
        "\n",
        "df = pd.DataFrame(data)\n",
        "print(df.to_string(index=False))\n",
        "\n",
        "#Visualizing the dataframe\n",
        "df.plot(kind=\"bar\",x=\"name\",y=\"age\")\n",
        "plt.xlabel(\"Name\")\n",
        "plt.ylabel(\"Age\")\n",
        "plt.title(\"Age of People\")\n",
        "# plt.show()\n",
        "plt.savefig(\"barplot.png\")"
      ],
      "metadata": {
        "id": "RmtR4drn6Aft",
        "colab": {
          "base_uri": "https://localhost:8080/",
          "height": 578
        },
        "outputId": "e5b2e55c-b6d3-47d6-ea15-a2f6539400e1"
      },
      "execution_count": 25,
      "outputs": [
        {
          "output_type": "stream",
          "name": "stdout",
          "text": [
            " name  age     city\n",
            " John   25 New York\n",
            " Jane   30    Paris\n",
            "  Bob   35   London\n",
            "Alice   40   Sydney\n"
          ]
        },
        {
          "output_type": "display_data",
          "data": {
            "text/plain": [
              "<Figure size 640x480 with 1 Axes>"
            ],
            "image/png": "[encoded data removed]"
          },
          "metadata": {}
        }
      ]
    },
    {
      "cell_type": "markdown",
      "source": [
        "#**bold text**"
      ],
      "metadata": {
        "id": "Dm-RFv9L59EX"
      }
    },
    {
      "cell_type": "markdown",
      "source": [
        "# Some Solved Examples"
      ],
      "metadata": {
        "id": "BAlUMW74vg03"
      }
    },
    {
      "cell_type": "markdown",
      "source": [
        "1. Create a Pandas Series with values [10,20,30,40] and indices [\"A\",\"B\",\"C\",\"D\"]. Print the series."
      ],
      "metadata": {
        "id": "YQeJvB6FwbId"
      }
    },
    {
      "cell_type": "code",
      "source": [
        "data = pd.Series([10,20,30,40],index=[\"A\",\"B\",\"C\",\"D\"])\n",
        "print(data)"
      ],
      "metadata": {
        "colab": {
          "base_uri": "https://localhost:8080/"
        },
        "id": "eZoHYH4twZnJ",
        "outputId": "3407b811-68fb-4685-f5b9-50bc8e9b2bbc"
      },
      "execution_count": null,
      "outputs": [
        {
          "output_type": "stream",
          "name": "stdout",
          "text": [
            "A    10\n",
            "B    20\n",
            "C    30\n",
            "D    40\n",
            "dtype: int64\n"
          ]
        }
      ]
    },
    {
      "cell_type": "markdown",
      "source": [
        "2. Create a DataFrame with columns \"City\" [\"Paris\",\"Tokyo\",\"Sydney\"] and \"Population\" [2.1,37.4,5.3]). Print the Dataframe."
      ],
      "metadata": {
        "id": "Ry_J3N-WySF6"
      }
    },
    {
      "cell_type": "code",
      "source": [
        "data = {\n",
        "    \"City\": [\"Paris\",\"Tokyo\",\"Sydney\"],\n",
        "    \"Population\": [2.1,37.4,5.3]\n",
        "}\n",
        "df = pd.DataFrame(data)\n",
        "\n",
        "#Printing the dataframe without index.\n",
        "print(df.to_string(index=False))"
      ],
      "metadata": {
        "colab": {
          "base_uri": "https://localhost:8080/"
        },
        "id": "2YPRfRm8w2b6",
        "outputId": "bf6b91e8-52c2-4bf3-95e0-cdc7e2689e67"
      },
      "execution_count": null,
      "outputs": [
        {
          "output_type": "stream",
          "name": "stdout",
          "text": [
            "  City  Population\n",
            " Paris         2.1\n",
            " Tokyo        37.4\n",
            "Sydney         5.3\n"
          ]
        }
      ]
    },
    {
      "cell_type": "markdown",
      "source": [
        "3. Create a Dataframe with columns \"Name\" [\"Eve\",\"Frank\",\"Grace\"]) and \"Age\" [19,23,20].Filter rows where the age is greater than 20 and print the result."
      ],
      "metadata": {
        "id": "jFXgt6ev0biq"
      }
    },
    {
      "cell_type": "code",
      "source": [
        "data = {\n",
        "    \"Name\": [\"Eve\",\"Frank\",\"Grace\"],\n",
        "    \"Age\": [19,23,20]\n",
        "}\n",
        "df = pd.DataFrame(data)\n",
        "\n",
        "filtered_df = df[df[\"Age\"] > 20]\n",
        "print(filtered_df.to_string(index=False))\n"
      ],
      "metadata": {
        "colab": {
          "base_uri": "https://localhost:8080/"
        },
        "id": "KHKYCcs0zgIX",
        "outputId": "d2f91962-f1f1-4e5f-e150-c8a44a530320"
      },
      "execution_count": null,
      "outputs": [
        {
          "output_type": "stream",
          "name": "stdout",
          "text": [
            " Name  Age\n",
            "Frank   23\n"
          ]
        }
      ]
    },
    {
      "cell_type": "markdown",
      "source": [
        "4. Simulate a csv string with columns \"Product\" [\"Apple\",\"Banana\",\"Orange\"] and \"Price\" [1.0, 0.5, 0.75]. Read it into a DataFrame and Print the sum of Prices."
      ],
      "metadata": {
        "id": "wmug3xBJ2Qu6"
      }
    },
    {
      "cell_type": "code",
      "source": [
        "csv_data = \"Product,Price\\nApple,1.0\\nBanana,0.5\\nOrange,0.75\"\n",
        "\n",
        "df = pd.read_csv(io.StringIO(csv_data))\n",
        "\n",
        "#df[\"Price\"]  selects \"Price\" column and sum() returns the sum of all rows.\n",
        "sum_of_prices = df[\"Price\"].sum()\n",
        "print(\"Sum of Prices:\", sum_of_prices)"
      ],
      "metadata": {
        "colab": {
          "base_uri": "https://localhost:8080/"
        },
        "id": "3utmUnFk0yLA",
        "outputId": "52b752b2-a897-4b69-f985-4604ae78c9fe"
      },
      "execution_count": null,
      "outputs": [
        {
          "output_type": "stream",
          "name": "stdout",
          "text": [
            "Sum of Prices: 2.25\n"
          ]
        }
      ]
    },
    {
      "cell_type": "markdown",
      "source": [],
      "metadata": {
        "id": "0Zmdtbf18IXs"
      }
    },
    {
      "cell_type": "code",
      "source": [],
      "metadata": {
        "id": "3_lNLRWA2zpn"
      },
      "execution_count": null,
      "outputs": []
    }
  ]
}