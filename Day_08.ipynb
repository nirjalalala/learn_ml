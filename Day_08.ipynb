{
  "nbformat": 4,
  "nbformat_minor": 0,
  "metadata": {
    "colab": {
      "provenance": [],
      "authorship_tag": "ABX9TyO+5DhEK7XJ+u5koGowu3NY",
      "include_colab_link": true
    },
    "kernelspec": {
      "name": "python3",
      "display_name": "Python 3"
    },
    "language_info": {
      "name": "python"
    }
  },
  "cells": [
    {
      "cell_type": "markdown",
      "metadata": {
        "id": "view-in-github",
        "colab_type": "text"
      },
      "source": [
        "<a href=\"https://colab.research.google.com/github/nirjalalala/learn_ml/blob/main/Day_08.ipynb\" target=\"_parent\"><img src=\"https://colab.research.google.com/assets/colab-badge.svg\" alt=\"Open In Colab\"/></a>"
      ]
    },
    {
      "cell_type": "markdown",
      "source": [
        "#**Pandas and Matplotlib**"
      ],
      "metadata": {
        "id": "3aipCmE8vlfA"
      }
    },
    {
      "cell_type": "markdown",
      "source": [
        "##**Creating a Pandas Series**\n",
        "\n",
        "\n",
        "---\n",
        "\n",
        "Pandas series = 1-D array with labels"
      ],
      "metadata": {
        "id": "xvLQ2iUIvvp_"
      }
    },
    {
      "cell_type": "code",
      "source": [
        "#first import the pandas module\n",
        "import pandas as pd"
      ],
      "metadata": {
        "id": "qkh2EI2jWf02"
      },
      "execution_count": 2,
      "outputs": []
    },
    {
      "cell_type": "code",
      "source": [
        "scores = pd.Series([45,65,46,78,87], index =[\"Math\",\"Science\",\"English\",\"History\",\"Geography\"])\n",
        "print(scores)"
      ],
      "metadata": {
        "colab": {
          "base_uri": "https://localhost:8080/"
        },
        "id": "RmfqMCfIwCFc",
        "outputId": "933eb790-47f6-4fed-d896-3cddfcacc911"
      },
      "execution_count": 3,
      "outputs": [
        {
          "output_type": "stream",
          "name": "stdout",
          "text": [
            "Math         45\n",
            "Science      65\n",
            "English      46\n",
            "History      78\n",
            "Geography    87\n",
            "dtype: int64\n"
          ]
        }
      ]
    },
    {
      "cell_type": "markdown",
      "source": [
        "##**Creating a Pandas Dataframe**\n",
        "---\n",
        "Datframe is in a tabular format."
      ],
      "metadata": {
        "id": "rJlCLyJ4w83A"
      }
    },
    {
      "cell_type": "code",
      "source": [
        "#Creating a dictionary\n",
        "data = {\n",
        "    \"Name\": [\"John\", \"Jane\", \"Bob\", \"Alice\"],\n",
        "    \"Age\": [25, 30, 35, 40],\n",
        "    \"City\": [\"New York\", \"Paris\", \"London\", \"Sydney\"]\n",
        "}\n",
        "#Turning dictionary into dataframe\n",
        "df = pd.DataFrame(data)\n",
        "\n",
        "#printing the dataframe\n",
        "print(df)\n",
        "\n"
      ],
      "metadata": {
        "colab": {
          "base_uri": "https://localhost:8080/"
        },
        "id": "lW7KnzmdxA4l",
        "outputId": "31e5f974-085a-424d-dd06-512ab823d733"
      },
      "execution_count": 8,
      "outputs": [
        {
          "output_type": "stream",
          "name": "stdout",
          "text": [
            "    Name  Age      City\n",
            "0   John   25  New York\n",
            "1   Jane   30     Paris\n",
            "2    Bob   35    London\n",
            "3  Alice   40    Sydney\n"
          ]
        }
      ]
    },
    {
      "cell_type": "markdown",
      "source": [
        "# Some Solved Examples"
      ],
      "metadata": {
        "id": "BAlUMW74vg03"
      }
    },
    {
      "cell_type": "markdown",
      "source": [
        "1. Create a Pandas Series with values [10,20,30,40] and indices [\"A\",\"B\",\"C\",\"D\"]. Print the series."
      ],
      "metadata": {
        "id": "YQeJvB6FwbId"
      }
    },
    {
      "cell_type": "code",
      "source": [
        "data = pd.Series([10,20,30,40],index=[\"A\",\"B\",\"C\",\"D\"])\n",
        "print(data)"
      ],
      "metadata": {
        "colab": {
          "base_uri": "https://localhost:8080/"
        },
        "id": "eZoHYH4twZnJ",
        "outputId": "3407b811-68fb-4685-f5b9-50bc8e9b2bbc"
      },
      "execution_count": 6,
      "outputs": [
        {
          "output_type": "stream",
          "name": "stdout",
          "text": [
            "A    10\n",
            "B    20\n",
            "C    30\n",
            "D    40\n",
            "dtype: int64\n"
          ]
        }
      ]
    },
    {
      "cell_type": "markdown",
      "source": [
        "2. Create a DataFrame with columns \"City\" [\"Paris\",\"Tokyo\",\"Sydney\"] and \"Population\" [2.1,37.4,5.3]). Print the Dataframe."
      ],
      "metadata": {
        "id": "Ry_J3N-WySF6"
      }
    },
    {
      "cell_type": "code",
      "source": [
        "data"
      ],
      "metadata": {
        "id": "2YPRfRm8w2b6"
      },
      "execution_count": null,
      "outputs": []
    }
  ]
}