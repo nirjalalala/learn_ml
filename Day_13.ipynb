{
  "nbformat": 4,
  "nbformat_minor": 0,
  "metadata": {
    "colab": {
      "provenance": [],
      "authorship_tag": "ABX9TyO66q3qQqvDvxXINbHcebC/",
      "include_colab_link": true
    },
    "kernelspec": {
      "name": "python3",
      "display_name": "Python 3"
    },
    "language_info": {
      "name": "python"
    }
  },
  "cells": [
    {
      "cell_type": "markdown",
      "metadata": {
        "id": "view-in-github",
        "colab_type": "text"
      },
      "source": [
        "<a href=\"https://colab.research.google.com/github/nirjalalala/learn_ml/blob/main/Day_13.ipynb\" target=\"_parent\"><img src=\"https://colab.research.google.com/assets/colab-badge.svg\" alt=\"Open In Colab\"/></a>"
      ]
    },
    {
      "cell_type": "markdown",
      "source": [
        "#**Exploratory Data Analysis** (Part - II)"
      ],
      "metadata": {
        "id": "CdjsVwLXUoYZ"
      }
    },
    {
      "cell_type": "markdown",
      "source": [
        "##**DATA PREPROCESSING**"
      ],
      "metadata": {
        "id": "LEmiyFYcQAS_"
      }
    },
    {
      "cell_type": "code",
      "execution_count": 1,
      "metadata": {
        "id": "NNVw3r7gUkVP"
      },
      "outputs": [],
      "source": [
        "#importing the required modules\n",
        "\n",
        "import pandas as pd\n",
        "import numpy as np\n",
        "import matplotlib.pyplot as plt\n",
        "import seaborn as sns"
      ]
    },
    {
      "cell_type": "code",
      "source": [
        "#Loading the dataset\n",
        "\n",
        "df = sns.load_dataset('titanic')\n"
      ],
      "metadata": {
        "id": "agfoyLdm5ZKm"
      },
      "execution_count": null,
      "outputs": []
    },
    {
      "cell_type": "code",
      "source": [
        "#Printing first five rows to confirm that the dataframe has been loaded properly\n",
        "\n",
        "print(df.head())"
      ],
      "metadata": {
        "colab": {
          "base_uri": "https://localhost:8080/"
        },
        "id": "OSahDxip5j02",
        "outputId": "109a23d2-49b2-44ec-f391-48a3d691bb37"
      },
      "execution_count": null,
      "outputs": [
        {
          "output_type": "stream",
          "name": "stdout",
          "text": [
            "   survived  pclass     sex   age  sibsp  parch     fare embarked  class  \\\n",
            "0         0       3    male  22.0      1      0   7.2500        S  Third   \n",
            "1         1       1  female  38.0      1      0  71.2833        C  First   \n",
            "2         1       3  female  26.0      0      0   7.9250        S  Third   \n",
            "3         1       1  female  35.0      1      0  53.1000        S  First   \n",
            "4         0       3    male  35.0      0      0   8.0500        S  Third   \n",
            "\n",
            "     who  adult_male deck  embark_town alive  alone  \n",
            "0    man        True  NaN  Southampton    no  False  \n",
            "1  woman       False    C    Cherbourg   yes  False  \n",
            "2  woman       False  NaN  Southampton   yes   True  \n",
            "3  woman       False    C  Southampton   yes  False  \n",
            "4    man        True  NaN  Southampton    no   True  \n"
          ]
        }
      ]
    },
    {
      "cell_type": "code",
      "source": [
        "#Understanding our dataset better by checking the columns, null-values and data types\n",
        "\n",
        "print(df.info())"
      ],
      "metadata": {
        "colab": {
          "base_uri": "https://localhost:8080/"
        },
        "id": "OZIkKCj75uR_",
        "outputId": "2e2433db-f813-4b72-9828-d591ad867192"
      },
      "execution_count": null,
      "outputs": [
        {
          "output_type": "stream",
          "name": "stdout",
          "text": [
            "<class 'pandas.core.frame.DataFrame'>\n",
            "RangeIndex: 891 entries, 0 to 890\n",
            "Data columns (total 15 columns):\n",
            " #   Column       Non-Null Count  Dtype   \n",
            "---  ------       --------------  -----   \n",
            " 0   survived     891 non-null    int64   \n",
            " 1   pclass       891 non-null    int64   \n",
            " 2   sex          891 non-null    object  \n",
            " 3   age          714 non-null    float64 \n",
            " 4   sibsp        891 non-null    int64   \n",
            " 5   parch        891 non-null    int64   \n",
            " 6   fare         891 non-null    float64 \n",
            " 7   embarked     889 non-null    object  \n",
            " 8   class        891 non-null    category\n",
            " 9   who          891 non-null    object  \n",
            " 10  adult_male   891 non-null    bool    \n",
            " 11  deck         203 non-null    category\n",
            " 12  embark_town  889 non-null    object  \n",
            " 13  alive        891 non-null    object  \n",
            " 14  alone        891 non-null    bool    \n",
            "dtypes: bool(2), category(2), float64(2), int64(4), object(5)\n",
            "memory usage: 80.7+ KB\n",
            "None\n"
          ]
        }
      ]
    },
    {
      "cell_type": "code",
      "source": [
        "# Checking duplicate values\n",
        "\n",
        "print(df.duplicated().sum())"
      ],
      "metadata": {
        "colab": {
          "base_uri": "https://localhost:8080/"
        },
        "id": "c4Eh4HTQiVVi",
        "outputId": "df761456-f235-4a12-87d7-b4f0944d7cd6"
      },
      "execution_count": null,
      "outputs": [
        {
          "output_type": "stream",
          "name": "stdout",
          "text": [
            "107\n"
          ]
        }
      ]
    },
    {
      "cell_type": "markdown",
      "source": [
        "There are 107 duplicate values."
      ],
      "metadata": {
        "id": "rbziXHBYjIrQ"
      }
    },
    {
      "cell_type": "markdown",
      "source": [
        "After running the above code block ( the one with .info() ),<br> we observe that there are different non-null values in different rows. Let's explore that further."
      ],
      "metadata": {
        "id": "tMDsdqLz6AHj"
      }
    },
    {
      "cell_type": "code",
      "source": [
        "#Printing null-value count in each column\n",
        "\n",
        "print(df.isnull().sum())"
      ],
      "metadata": {
        "colab": {
          "base_uri": "https://localhost:8080/"
        },
        "id": "IeE1LB8_54tR",
        "outputId": "e9cefdfa-1a11-4160-84da-ce57130d6dc0"
      },
      "execution_count": null,
      "outputs": [
        {
          "output_type": "stream",
          "name": "stdout",
          "text": [
            "survived         0\n",
            "pclass           0\n",
            "sex              0\n",
            "age            177\n",
            "sibsp            0\n",
            "parch            0\n",
            "fare             0\n",
            "embarked         2\n",
            "class            0\n",
            "who              0\n",
            "adult_male       0\n",
            "deck           688\n",
            "embark_town      2\n",
            "alive            0\n",
            "alone            0\n",
            "dtype: int64\n"
          ]
        }
      ]
    },
    {
      "cell_type": "markdown",
      "source": [
        "After running the above code,<br><br>\n",
        "'embark_town' has only two missing values.<br>\n",
        "'age' has 177 missing values.<br>\n",
        "'deck' has 688 missing values.<br><br>\n",
        "Previously, we observed that our dataset has a total of 891 entries. So, it'd be reasonable to drop 'deck' column and replace missing values in 'age' column by some average value.<br><br>\n",
        "Before making changes, let's create a new copy of the dataframe."
      ],
      "metadata": {
        "id": "RMFGczg16Vf7"
      }
    },
    {
      "cell_type": "code",
      "source": [
        "#creating a copy of the dataframe\n",
        "\n",
        "df_copy = df.copy()"
      ],
      "metadata": {
        "id": "QjJV-pY36UCM"
      },
      "execution_count": null,
      "outputs": []
    },
    {
      "cell_type": "code",
      "source": [
        "#printing the new copy\n",
        "print(df_copy.head())"
      ],
      "metadata": {
        "colab": {
          "base_uri": "https://localhost:8080/"
        },
        "id": "pk6Exrr17rVU",
        "outputId": "eab39c09-f093-4f0b-ba80-1f1fd9598638"
      },
      "execution_count": null,
      "outputs": [
        {
          "output_type": "stream",
          "name": "stdout",
          "text": [
            "   survived  pclass     sex   age  sibsp  parch     fare embarked  class  \\\n",
            "0         0       3    male  22.0      1      0   7.2500        S  Third   \n",
            "1         1       1  female  38.0      1      0  71.2833        C  First   \n",
            "2         1       3  female  26.0      0      0   7.9250        S  Third   \n",
            "3         1       1  female  35.0      1      0  53.1000        S  First   \n",
            "4         0       3    male  35.0      0      0   8.0500        S  Third   \n",
            "\n",
            "     who  adult_male deck  embark_town alive  alone  \n",
            "0    man        True  NaN  Southampton    no  False  \n",
            "1  woman       False    C    Cherbourg   yes  False  \n",
            "2  woman       False  NaN  Southampton   yes   True  \n",
            "3  woman       False    C  Southampton   yes  False  \n",
            "4    man        True  NaN  Southampton    no   True  \n"
          ]
        }
      ]
    },
    {
      "cell_type": "markdown",
      "source": [
        "'alive' and 'survived' columns give the same information. So, we can drop one of them, let's drop 'alive' column.<br><br>\n",
        "Similarly, 'who', 'sex' and 'adult_male' are essentially the same. All of these columns define whether or not the passenger is a male (male or female). Let's drop the 'who' and 'adult_man' column.<br><br>\n",
        "We can see similar relationship between 'pclass' and 'class' so let's drop the 'class' column."
      ],
      "metadata": {
        "id": "i8_Vu7Gq8GI9"
      }
    },
    {
      "cell_type": "code",
      "source": [
        "print(df_copy[\"embarked\"].unique())\n",
        "print(df_copy[\"embark_town\"].unique())"
      ],
      "metadata": {
        "colab": {
          "base_uri": "https://localhost:8080/"
        },
        "id": "qoalkr-9DNgI",
        "outputId": "b3bfb66d-87b2-479d-d087-3b3dbc0606a1"
      },
      "execution_count": null,
      "outputs": [
        {
          "output_type": "stream",
          "name": "stdout",
          "text": [
            "['S' 'C' 'Q' nan]\n",
            "['Southampton' 'Cherbourg' 'Queenstown' nan]\n"
          ]
        }
      ]
    },
    {
      "cell_type": "markdown",
      "source": [
        "'embarked' simply contains the first letter of the entry in 'embark_town' so we don't need 'embarked' column to draw any important conclusions. Hence, we can drop that column as well.<br><br>"
      ],
      "metadata": {
        "id": "DhjCsp3vDzEC"
      }
    },
    {
      "cell_type": "code",
      "source": [
        "#dropping the redundant columns\n",
        "\n",
        "df_copy.drop(columns=[\"deck\",\"embarked\",\"alive\",\"who\",\"adult_male\",\"class\"], axis=1, inplace=True)"
      ],
      "metadata": {
        "id": "RTqZVK1c7w2u"
      },
      "execution_count": null,
      "outputs": []
    },
    {
      "cell_type": "code",
      "source": [
        "#printing the dataframe again to see the difference\n",
        "\n",
        "print(df_copy.head())"
      ],
      "metadata": {
        "colab": {
          "base_uri": "https://localhost:8080/"
        },
        "id": "KVjXSbOM99xT",
        "outputId": "e16daac1-72e0-4602-b277-25f5c44524e3"
      },
      "execution_count": null,
      "outputs": [
        {
          "output_type": "stream",
          "name": "stdout",
          "text": [
            "   survived  pclass  sex   age  sibsp  parch     fare  embark_town  alone\n",
            "0         0       3    0  22.0      1      0   7.2500  Southampton  False\n",
            "1         1       1    1  38.0      1      0  71.2833    Cherbourg  False\n",
            "2         1       3    1  26.0      0      0   7.9250  Southampton   True\n",
            "3         1       1    1  35.0      1      0  53.1000  Southampton  False\n",
            "4         0       3    0  35.0      0      0   8.0500  Southampton   True\n"
          ]
        }
      ]
    },
    {
      "cell_type": "code",
      "source": [
        "#check null- values in 'age' column\n",
        "print(df_copy['age'].isnull().sum())"
      ],
      "metadata": {
        "colab": {
          "base_uri": "https://localhost:8080/"
        },
        "id": "in1lsJLfEQlN",
        "outputId": "e42d94e6-f54a-4fc6-e746-f1d4484ea3c3"
      },
      "execution_count": null,
      "outputs": [
        {
          "output_type": "stream",
          "name": "stdout",
          "text": [
            "177\n"
          ]
        }
      ]
    },
    {
      "cell_type": "code",
      "source": [
        "# histogram for 'age' column\n",
        "\n",
        "sns.displot(df_copy['age'])\n",
        "plt.title('Age Distrbution')\n",
        "plt.show()"
      ],
      "metadata": {
        "colab": {
          "base_uri": "https://localhost:8080/",
          "height": 529
        },
        "id": "JSqRavvLEsHg",
        "outputId": "0a435cd2-1067-46e7-a650-3769435a661f"
      },
      "execution_count": null,
      "outputs": [
        {
          "output_type": "display_data",
          "data": {
            "text/plain": [
              "<Figure size 500x500 with 1 Axes>"
            ],
            "image/png": "[encoded data removed]"
          },
          "metadata": {}
        }
      ]
    },
    {
      "cell_type": "code",
      "source": [
        "#Filling null values in 'age' column with median value\n",
        "\n",
        "df_copy['age'] = df_copy['age'].fillna(df_copy['age'].median())\n"
      ],
      "metadata": {
        "id": "6SQe7Yna-F3Z"
      },
      "execution_count": null,
      "outputs": []
    },
    {
      "cell_type": "code",
      "source": [
        "#check null- values in 'age' column\n",
        "print(df_copy['age'].isnull().sum())"
      ],
      "metadata": {
        "colab": {
          "base_uri": "https://localhost:8080/"
        },
        "id": "lTQ0D9iOAsZJ",
        "outputId": "8f64ffb0-1f3c-42da-a8c2-2411df12f453"
      },
      "execution_count": null,
      "outputs": [
        {
          "output_type": "stream",
          "name": "stdout",
          "text": [
            "0\n"
          ]
        }
      ]
    },
    {
      "cell_type": "code",
      "source": [
        "#check null values in 'embark_town' column\n",
        "print(df_copy['embark_town'].isnull().sum())"
      ],
      "metadata": {
        "colab": {
          "base_uri": "https://localhost:8080/"
        },
        "id": "83ta1Un7EXNg",
        "outputId": "7f993fc0-8abe-404d-ca09-10da09bf8182"
      },
      "execution_count": null,
      "outputs": [
        {
          "output_type": "stream",
          "name": "stdout",
          "text": [
            "2\n"
          ]
        }
      ]
    },
    {
      "cell_type": "code",
      "source": [
        "#distribution plot for 'embark_town' column\n",
        "\n",
        "sns.displot(df_copy['embark_town'])\n",
        "plt.title('Embark Town')\n",
        "plt.show()"
      ],
      "metadata": {
        "colab": {
          "base_uri": "https://localhost:8080/",
          "height": 529
        },
        "id": "0IvxAASkEdq_",
        "outputId": "dfb7942a-2d55-4890-82bf-6aa693695423"
      },
      "execution_count": null,
      "outputs": [
        {
          "output_type": "display_data",
          "data": {
            "text/plain": [
              "<Figure size 500x500 with 1 Axes>"
            ],
            "image/png": "[encoded data removed]"
          },
          "metadata": {}
        }
      ]
    },
    {
      "cell_type": "code",
      "source": [
        "#Since 'embark_town' is a categorical column\n",
        "#let's fill the null values with the mode value\n",
        "\n",
        "df_copy['embark_town'] = df_copy['embark_town'].fillna(df_copy['embark_town'].mode()[0])"
      ],
      "metadata": {
        "id": "sf2eRcy0A0KP"
      },
      "execution_count": null,
      "outputs": []
    },
    {
      "cell_type": "code",
      "source": [
        "#check null values in 'embark_town' column\n",
        "print(df_copy['embark_town'].isnull().sum())"
      ],
      "metadata": {
        "colab": {
          "base_uri": "https://localhost:8080/"
        },
        "id": "x5jgmyHHCpvC",
        "outputId": "e4d75e14-714f-40d4-d59a-550c224a030a"
      },
      "execution_count": null,
      "outputs": [
        {
          "output_type": "stream",
          "name": "stdout",
          "text": [
            "0\n"
          ]
        }
      ]
    },
    {
      "cell_type": "markdown",
      "source": [
        "Now, all missing values are filled or dropped. A complete dataset is ready."
      ],
      "metadata": {
        "id": "D9o2fXyPC668"
      }
    },
    {
      "cell_type": "code",
      "source": [
        "#Checking all null values\n",
        "print(df_copy.isnull().sum())"
      ],
      "metadata": {
        "colab": {
          "base_uri": "https://localhost:8080/"
        },
        "id": "cIWzRVA8Cyws",
        "outputId": "848e827d-e49b-4c95-926e-45a6c445ac78"
      },
      "execution_count": null,
      "outputs": [
        {
          "output_type": "stream",
          "name": "stdout",
          "text": [
            "survived       0\n",
            "pclass         0\n",
            "sex            0\n",
            "age            0\n",
            "sibsp          0\n",
            "parch          0\n",
            "fare           0\n",
            "embark_town    0\n",
            "alone          0\n",
            "dtype: int64\n"
          ]
        }
      ]
    },
    {
      "cell_type": "code",
      "source": [
        "print(df_copy.info())"
      ],
      "metadata": {
        "colab": {
          "base_uri": "https://localhost:8080/"
        },
        "id": "F6yj9GwnC4d7",
        "outputId": "7665f665-e311-4aca-ef7a-6cc5c5ab7298"
      },
      "execution_count": null,
      "outputs": [
        {
          "output_type": "stream",
          "name": "stdout",
          "text": [
            "<class 'pandas.core.frame.DataFrame'>\n",
            "RangeIndex: 891 entries, 0 to 890\n",
            "Data columns (total 9 columns):\n",
            " #   Column       Non-Null Count  Dtype  \n",
            "---  ------       --------------  -----  \n",
            " 0   survived     891 non-null    int64  \n",
            " 1   pclass       891 non-null    int64  \n",
            " 2   sex          891 non-null    object \n",
            " 3   age          891 non-null    float64\n",
            " 4   sibsp        891 non-null    int64  \n",
            " 5   parch        891 non-null    int64  \n",
            " 6   fare         891 non-null    float64\n",
            " 7   embark_town  891 non-null    object \n",
            " 8   alone        891 non-null    bool   \n",
            "dtypes: bool(1), float64(2), int64(4), object(2)\n",
            "memory usage: 56.7+ KB\n",
            "None\n"
          ]
        }
      ]
    },
    {
      "cell_type": "markdown",
      "source": [
        "Since, 'sex' is a categorical column and has 'female' and 'male' values.<br>\n",
        "Let's perform one-hot encoding to convert into 0 and 1.<br>\n",
        "0 for \"male\" and 1 for \"female\"."
      ],
      "metadata": {
        "id": "VoTuvaNxFrKD"
      }
    },
    {
      "cell_type": "code",
      "source": [
        "#Encoding categories values\n",
        "df_copy['sex'] =df_copy['sex'].map({'male':0,'female':1})"
      ],
      "metadata": {
        "id": "0ZPWRoNFFGF2"
      },
      "execution_count": null,
      "outputs": []
    },
    {
      "cell_type": "code",
      "source": [
        "#Printing values for 'sex'\n",
        "print(df_copy['sex'].unique())"
      ],
      "metadata": {
        "colab": {
          "base_uri": "https://localhost:8080/"
        },
        "id": "PC03Uu19GNmE",
        "outputId": "f7e79637-65f1-4cb1-e057-6f0f65f0a10e"
      },
      "execution_count": null,
      "outputs": [
        {
          "output_type": "stream",
          "name": "stdout",
          "text": [
            "[0 1]\n"
          ]
        }
      ]
    },
    {
      "cell_type": "code",
      "source": [
        "# Now, our dataset looks like this.\n",
        "print(df_copy.head())"
      ],
      "metadata": {
        "colab": {
          "base_uri": "https://localhost:8080/"
        },
        "id": "Q5u6Nd68GTRF",
        "outputId": "8de682a7-341e-4aba-ec0e-55bec6cc5234"
      },
      "execution_count": null,
      "outputs": [
        {
          "output_type": "stream",
          "name": "stdout",
          "text": [
            "   survived  pclass  sex   age  sibsp  parch     fare  embark_town  alone\n",
            "0         0       3    0  22.0      1      0   7.2500  Southampton  False\n",
            "1         1       1    1  38.0      1      0  71.2833    Cherbourg  False\n",
            "2         1       3    1  26.0      0      0   7.9250  Southampton   True\n",
            "3         1       1    1  35.0      1      0  53.1000  Southampton  False\n",
            "4         0       3    0  35.0      0      0   8.0500  Southampton   True\n"
          ]
        }
      ]
    },
    {
      "cell_type": "markdown",
      "source": [
        "###**CONCLUSION**\n",
        "---\n",
        "Now, our data is ready for analysis and feeding into models.\n",
        "\n",
        "---"
      ],
      "metadata": {
        "id": "QA3y7vqgQWpa"
      }
    }
  ]
}