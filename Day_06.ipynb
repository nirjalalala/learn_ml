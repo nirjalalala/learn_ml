{
  "nbformat": 4,
  "nbformat_minor": 0,
  "metadata": {
    "colab": {
      "provenance": [],
      "collapsed_sections": [
        "_6E9mWdeA5OE",
        "E8qIAUBpD3rI",
        "92G0LRSOSB5d",
        "H7yfyCXSFt4a",
        "6ou6ME83GcV3",
        "KEsd_IglHZfI",
        "-JJiA6j1IfPy",
        "wJpHW9XRJt6H"
      ],
      "authorship_tag": "ABX9TyPTLXytp8sCmx000x+5wl+1",
      "include_colab_link": true
    },
    "kernelspec": {
      "name": "python3",
      "display_name": "Python 3"
    },
    "language_info": {
      "name": "python"
    }
  },
  "cells": [
    {
      "cell_type": "markdown",
      "metadata": {
        "id": "view-in-github",
        "colab_type": "text"
      },
      "source": [
        "<a href=\"https://colab.research.google.com/github/nirjalalala/learn_ml/blob/main/Day_06.ipynb\" target=\"_parent\"><img src=\"https://colab.research.google.com/assets/colab-badge.svg\" alt=\"Open In Colab\"/></a>"
      ]
    },
    {
      "cell_type": "markdown",
      "source": [
        "#**File Handling in Python**"
      ],
      "metadata": {
        "id": "c2MQ5c3dAtRV"
      }
    },
    {
      "cell_type": "markdown",
      "source": [
        "*To see the files, click on the folder icon on the left.*"
      ],
      "metadata": {
        "id": "_dY3eysjQVTy"
      }
    },
    {
      "cell_type": "markdown",
      "source": [
        "##**Opening and reading a file**"
      ],
      "metadata": {
        "id": "_6E9mWdeA5OE"
      }
    },
    {
      "cell_type": "code",
      "execution_count": 5,
      "metadata": {
        "colab": {
          "base_uri": "https://localhost:8080/"
        },
        "id": "55cU8ZmIAd9k",
        "outputId": "e9df8dfd-ed5b-4e06-dfc9-9aa64b2e90c9"
      },
      "outputs": [
        {
          "output_type": "stream",
          "name": "stdout",
          "text": [
            "My name is Nirjala.\n",
            "I am learning AI.\n",
            "It is fun.\n"
          ]
        }
      ],
      "source": [
        "#opening a file with read mode\n",
        "\n",
        "f = open(\"file.txt\", \"r\")\n",
        "print(f.read()) #returns all contents of a file as a string\n",
        "f.close()"
      ]
    },
    {
      "cell_type": "code",
      "source": [
        "f = open(\"file.txt\", \"r\")\n",
        "#readline() returns first line of a file\n",
        "print(f.readline())\n",
        "print(f.readline())\n",
        "f.close()"
      ],
      "metadata": {
        "id": "ZBNbtyGQCDbO",
        "outputId": "6c54d3ee-98c2-4b0a-e6df-e67778b79864",
        "colab": {
          "base_uri": "https://localhost:8080/"
        }
      },
      "execution_count": 6,
      "outputs": [
        {
          "output_type": "stream",
          "name": "stdout",
          "text": [
            "My name is Nirjala.\n",
            "\n",
            "I am learning AI.\n",
            "\n"
          ]
        }
      ]
    },
    {
      "cell_type": "code",
      "source": [
        "f=open(\"file.txt\",\"r\")\n",
        "#read(n) returns first n characters as a string\n",
        "print(f.read(5))\n",
        "f.close()"
      ],
      "metadata": {
        "id": "dCgYue5XCPH0",
        "outputId": "f007df74-9ac4-4f31-c0b4-f198575e4fb2",
        "colab": {
          "base_uri": "https://localhost:8080/"
        }
      },
      "execution_count": 7,
      "outputs": [
        {
          "output_type": "stream",
          "name": "stdout",
          "text": [
            "My na\n"
          ]
        }
      ]
    },
    {
      "cell_type": "code",
      "source": [
        "f = open(\"file.txt\", \"r\")\n",
        "for x in f:\n",
        "  print(x)\n",
        "f.close()"
      ],
      "metadata": {
        "id": "H-272FcVDAHn",
        "outputId": "51fe04d9-a266-43f3-fb88-7b1ac48b4e8f",
        "colab": {
          "base_uri": "https://localhost:8080/"
        }
      },
      "execution_count": 8,
      "outputs": [
        {
          "output_type": "stream",
          "name": "stdout",
          "text": [
            "My name is Nirjala.\n",
            "\n",
            "I am learning AI.\n",
            "\n",
            "It is fun.\n"
          ]
        }
      ]
    },
    {
      "cell_type": "code",
      "source": [
        "f = open(\"file.txt\", \"r\")\n",
        "print(f.readlines())  #returns a list of all lines of a file.\n",
        "f.close()"
      ],
      "metadata": {
        "id": "O0N73KqXDImQ",
        "outputId": "c131a77a-b0b1-4550-c170-fdd6a92e7844",
        "colab": {
          "base_uri": "https://localhost:8080/"
        }
      },
      "execution_count": 9,
      "outputs": [
        {
          "output_type": "stream",
          "name": "stdout",
          "text": [
            "['My name is Nirjala.\\n', 'I am learning AI.\\n', 'It is fun.']\n"
          ]
        }
      ]
    },
    {
      "cell_type": "markdown",
      "source": [
        "###**WITH operation**"
      ],
      "metadata": {
        "id": "l1ieNK4ODeO5"
      }
    },
    {
      "cell_type": "code",
      "source": [
        "with open(\"file.txt\", \"r\") as f:\n",
        "  print(f.read())"
      ],
      "metadata": {
        "id": "1l1Hq-zzDY9z",
        "outputId": "b5b4deae-49cc-44dd-d56a-5909c8bb0dd3",
        "colab": {
          "base_uri": "https://localhost:8080/"
        }
      },
      "execution_count": 10,
      "outputs": [
        {
          "output_type": "stream",
          "name": "stdout",
          "text": [
            "My name is Nirjala.\n",
            "I am learning AI.\n",
            "It is fun.\n"
          ]
        }
      ]
    },
    {
      "cell_type": "markdown",
      "source": [
        "##**Writing to a file**"
      ],
      "metadata": {
        "id": "E8qIAUBpD3rI"
      }
    },
    {
      "cell_type": "code",
      "source": [
        "#For writing to a file, open with write mode\n",
        "f = open(\"file.txt\", \"w\")\n",
        "f.write(\"I have overwritten the file contents.\")\n",
        "f.close()\n",
        "\n",
        "#open and read the file after writing:\n",
        "f = open(\"file.txt\", \"r\")\n",
        "print(f.read())\n",
        "f.close()"
      ],
      "metadata": {
        "colab": {
          "base_uri": "https://localhost:8080/"
        },
        "id": "jP6_QWFUD67T",
        "outputId": "395253bb-7218-4aeb-b388-5f33f0117979"
      },
      "execution_count": null,
      "outputs": [
        {
          "output_type": "stream",
          "name": "stdout",
          "text": [
            "I have overwritten the file contents.\n"
          ]
        }
      ]
    },
    {
      "cell_type": "markdown",
      "source": [
        "###WITH operation"
      ],
      "metadata": {
        "id": "4Wnk2BjfERHs"
      }
    },
    {
      "cell_type": "code",
      "source": [
        "with open(\"file.txt\", \"w\") as f:\n",
        "  f.write(\"I have overwritten the file contents again using with operation.\")\n",
        "\n",
        "#open and read the file after writing:\n",
        "f = open(\"file.txt\", \"r\")\n",
        "print(f.read())\n",
        "f.close()"
      ],
      "metadata": {
        "colab": {
          "base_uri": "https://localhost:8080/"
        },
        "id": "iWSWEJFlEOSN",
        "outputId": "d0aee52b-7eae-4561-e9fc-866067653025"
      },
      "execution_count": null,
      "outputs": [
        {
          "output_type": "stream",
          "name": "stdout",
          "text": [
            "I have overwritten the file contents again using with operation.\n"
          ]
        }
      ]
    },
    {
      "cell_type": "markdown",
      "source": [
        "###Trying to write on a file that does not exist."
      ],
      "metadata": {
        "id": "ymCZGaK5EocH"
      }
    },
    {
      "cell_type": "code",
      "source": [
        "with open(\"test.txt\",\"w\") as f:\n",
        "  f.write(\"This will create a new file.\")"
      ],
      "metadata": {
        "id": "gOlvG42AEZHK"
      },
      "execution_count": null,
      "outputs": []
    },
    {
      "cell_type": "markdown",
      "source": [
        "##**Appending to a file**"
      ],
      "metadata": {
        "id": "xrJ7VfXRFAXy"
      }
    },
    {
      "cell_type": "code",
      "source": [
        "# for appending to a file, open with append mode.\n",
        "\n",
        "with open(\"test.txt\",\"a\") as f:\n",
        "  f.write(\"\\nThis will be appended to the file.\")"
      ],
      "metadata": {
        "id": "a00lcXlHFEM-"
      },
      "execution_count": null,
      "outputs": []
    },
    {
      "cell_type": "markdown",
      "source": [
        "##**Deleting a file**"
      ],
      "metadata": {
        "id": "ftrjYxqwP2jt"
      }
    },
    {
      "cell_type": "code",
      "source": [
        "#To delete a file, we have to import os module.\n",
        "import os\n",
        "if os.path.exists(\"test.txt\"):\n",
        "  os.remove(\"test.txt\")\n",
        "  print(\"The file has been deleted.\")\n",
        "else:\n",
        "  print(\"The file does not exist.\")"
      ],
      "metadata": {
        "colab": {
          "base_uri": "https://localhost:8080/"
        },
        "id": "RCxoTqONP5em",
        "outputId": "eb63028b-cdf3-4a4a-995c-5a23fa676edc"
      },
      "execution_count": null,
      "outputs": [
        {
          "output_type": "stream",
          "name": "stdout",
          "text": [
            "The file has been deleted.\n"
          ]
        }
      ]
    },
    {
      "cell_type": "markdown",
      "source": [
        "##**Creating a new file**"
      ],
      "metadata": {
        "id": "ErzIURVtxvtV"
      }
    },
    {
      "cell_type": "markdown",
      "source": [
        "In Python file handling, the 'x' mode is used to open a file exclusively for creation. This means that:\n",
        "\n",
        "\n",
        "*   If the file doesn't exist, it will be created.\n",
        "*   If the file already exists, FileExistsError will be raised.\n",
        "\n"
      ],
      "metadata": {
        "id": "urFNP3Kgx51q"
      }
    },
    {
      "cell_type": "code",
      "source": [
        "try:\n",
        "  with open(\"test.txt\",\"x\") as f:\n",
        "    f.write(\"This will create a new file.\")\n",
        "except FileExistsError:\n",
        "  print(\"The file already exists.\")"
      ],
      "metadata": {
        "colab": {
          "base_uri": "https://localhost:8080/"
        },
        "id": "RQD67OOJySDp",
        "outputId": "90a3244a-4002-4ff8-ea97-ef6719e5b2f0"
      },
      "execution_count": null,
      "outputs": [
        {
          "output_type": "stream",
          "name": "stdout",
          "text": [
            "The file already exists\n"
          ]
        }
      ]
    },
    {
      "cell_type": "markdown",
      "source": [
        "##Other modes"
      ],
      "metadata": {
        "id": "uoZ0nXtIyr8w"
      }
    },
    {
      "cell_type": "markdown",
      "source": [
        "\"t\" opens file in text mode. It is default. <br>\n",
        "\"b\" opens file in binary mode. used for images, video, etc.<br>\n",
        "\"+\" opens a file for updating (reading and writing)."
      ],
      "metadata": {
        "id": "tSsShBlBy4uT"
      }
    },
    {
      "cell_type": "code",
      "source": [
        "with open(\"file.txt\",\"r+\") as f:\n",
        "  print(f.read())\n",
        "  f.write(\"\\nI have added a new line.\")"
      ],
      "metadata": {
        "colab": {
          "base_uri": "https://localhost:8080/"
        },
        "id": "AM-ihu5Vyy0Q",
        "outputId": "33a0b9a6-6ef2-4ade-9d43-d13d016e08d5"
      },
      "execution_count": null,
      "outputs": [
        {
          "output_type": "stream",
          "name": "stdout",
          "text": [
            "\n",
            "I have added a new line again.\n",
            "I have added a new line again.\n",
            "\n"
          ]
        }
      ]
    },
    {
      "cell_type": "code",
      "source": [
        "with open(\"test.txt\",\"w+\") as f:\n",
        "  f.write(\"\\nI have added a new line.\")\n",
        "  f.seek(0) #move file pointer from end to specified position to read.\n",
        "  print(f.read())"
      ],
      "metadata": {
        "colab": {
          "base_uri": "https://localhost:8080/"
        },
        "id": "UBAJ8f6pzVf9",
        "outputId": "bf5dc3a5-99f5-49af-d711-a0fb1562b785"
      },
      "execution_count": null,
      "outputs": [
        {
          "output_type": "stream",
          "name": "stdout",
          "text": [
            "\n",
            "I have added a new line.\n"
          ]
        }
      ]
    },
    {
      "cell_type": "code",
      "source": [
        "#first create a new file\n",
        "with open(\"app.txt\",\"w\") as f:\n",
        "  f.write(\"This is the first line\")\n",
        "\n",
        "with open(\"app.txt\",\"a+\") as f:\n",
        "  print(\"Before Appending:\")\n",
        "  f.seek(0)\n",
        "  print(f.read())\n",
        "  f.write(\"\\nThis is the second line\")\n",
        "  print(\"\\nAfter Appending:\")\n",
        "  f.seek(0)\n",
        "  print(f.read())"
      ],
      "metadata": {
        "colab": {
          "base_uri": "https://localhost:8080/"
        },
        "id": "Ijp3DBEX_Usm",
        "outputId": "f9d96269-6f03-47ac-e952-e589168cd776"
      },
      "execution_count": null,
      "outputs": [
        {
          "output_type": "stream",
          "name": "stdout",
          "text": [
            "Before Appending:\n",
            "This is the first line\n",
            "\n",
            "After Appending:\n",
            "This is the first line\n",
            "This is the second line\n"
          ]
        }
      ]
    },
    {
      "cell_type": "markdown",
      "source": [
        "##**Deleting a Folder**"
      ],
      "metadata": {
        "id": "MY1J6g4zRnEu"
      }
    },
    {
      "cell_type": "code",
      "source": [
        "import os\n",
        "if os.path.exists(\"/content/Delete_Me\"):\n",
        "  os.rmdir(\"/content/Delete_Me\")\n",
        "  print(\"The folder has been deleted.\")\n",
        "else:\n",
        "  print(\"The folder does not exist.\")"
      ],
      "metadata": {
        "colab": {
          "base_uri": "https://localhost:8080/"
        },
        "id": "YIQR9acVR4-4",
        "outputId": "2867aac6-992f-47de-eff7-759e8d6e946e"
      },
      "execution_count": null,
      "outputs": [
        {
          "output_type": "stream",
          "name": "stdout",
          "text": [
            "The folder does not exist.\n"
          ]
        }
      ]
    },
    {
      "cell_type": "markdown",
      "source": [
        "#**Exception handling in Python**"
      ],
      "metadata": {
        "id": "92G0LRSOSB5d"
      }
    },
    {
      "cell_type": "markdown",
      "source": [
        "###Name error"
      ],
      "metadata": {
        "id": "RlHk0E3pTXHE"
      }
    },
    {
      "cell_type": "code",
      "source": [
        "print(undefined_variable)  #will raise an error"
      ],
      "metadata": {
        "colab": {
          "base_uri": "https://localhost:8080/",
          "height": 141
        },
        "id": "bfnqlRKSSN7X",
        "outputId": "3cd9ec51-7862-4509-b024-eb87b490c291"
      },
      "execution_count": null,
      "outputs": [
        {
          "output_type": "error",
          "ename": "NameError",
          "evalue": "name 'undefined_variable' is not defined",
          "traceback": [
            "\u001b[0;31m---------------------------------------------------------------------------\u001b[0m",
            "\u001b[0;31mNameError\u001b[0m                                 Traceback (most recent call last)",
            "\u001b[0;32m<ipython-input-57-72e4f15106f9>\u001b[0m in \u001b[0;36m<cell line: 0>\u001b[0;34m()\u001b[0m\n\u001b[0;32m----> 1\u001b[0;31m \u001b[0mprint\u001b[0m\u001b[0;34m(\u001b[0m\u001b[0mundefined_variable\u001b[0m\u001b[0;34m)\u001b[0m  \u001b[0;31m#will raise an error\u001b[0m\u001b[0;34m\u001b[0m\u001b[0;34m\u001b[0m\u001b[0m\n\u001b[0m",
            "\u001b[0;31mNameError\u001b[0m: name 'undefined_variable' is not defined"
          ]
        }
      ]
    },
    {
      "cell_type": "code",
      "source": [
        "try:\n",
        "  print(undefined_variable)  #trying to print an undeclared variable raises an error\n",
        "except NameError:\n",
        "  print(\"The variable has not been defined.\")"
      ],
      "metadata": {
        "colab": {
          "base_uri": "https://localhost:8080/"
        },
        "id": "tvYHuRbqSaus",
        "outputId": "b2f440f1-c621-4737-958e-56c5296cf062"
      },
      "execution_count": null,
      "outputs": [
        {
          "output_type": "stream",
          "name": "stdout",
          "text": [
            "The variable has not been defined.\n"
          ]
        }
      ]
    },
    {
      "cell_type": "markdown",
      "source": [
        "###DivideByZero Error"
      ],
      "metadata": {
        "id": "6giOw-twTah2"
      }
    },
    {
      "cell_type": "code",
      "source": [
        "#trying to divide by zero will raise an error.\n",
        "division = 10/0\n",
        "print(division)"
      ],
      "metadata": {
        "colab": {
          "base_uri": "https://localhost:8080/",
          "height": 176
        },
        "id": "zpFS_ymySxDa",
        "outputId": "e92b38a4-c702-4db6-942b-36178da6f548"
      },
      "execution_count": null,
      "outputs": [
        {
          "output_type": "error",
          "ename": "ZeroDivisionError",
          "evalue": "division by zero",
          "traceback": [
            "\u001b[0;31m---------------------------------------------------------------------------\u001b[0m",
            "\u001b[0;31mZeroDivisionError\u001b[0m                         Traceback (most recent call last)",
            "\u001b[0;32m<ipython-input-61-1df118dd14fd>\u001b[0m in \u001b[0;36m<cell line: 0>\u001b[0;34m()\u001b[0m\n\u001b[1;32m      1\u001b[0m \u001b[0;31m#trying to divide by zero will raise an error.\u001b[0m\u001b[0;34m\u001b[0m\u001b[0;34m\u001b[0m\u001b[0m\n\u001b[0;32m----> 2\u001b[0;31m \u001b[0mdivision\u001b[0m \u001b[0;34m=\u001b[0m \u001b[0;36m10\u001b[0m\u001b[0;34m/\u001b[0m\u001b[0;36m0\u001b[0m\u001b[0;34m\u001b[0m\u001b[0;34m\u001b[0m\u001b[0m\n\u001b[0m\u001b[1;32m      3\u001b[0m \u001b[0mprint\u001b[0m\u001b[0;34m(\u001b[0m\u001b[0mdivision\u001b[0m\u001b[0;34m)\u001b[0m\u001b[0;34m\u001b[0m\u001b[0;34m\u001b[0m\u001b[0m\n",
            "\u001b[0;31mZeroDivisionError\u001b[0m: division by zero"
          ]
        }
      ]
    },
    {
      "cell_type": "code",
      "source": [
        "try:\n",
        "  division = 10/0\n",
        "  print(division)\n",
        "except ZeroDivisionError:\n",
        "  print(\"Cannot divide by zero.\")"
      ],
      "metadata": {
        "colab": {
          "base_uri": "https://localhost:8080/"
        },
        "id": "uuIbZIS9S6d_",
        "outputId": "63a6576c-b136-4bad-9a95-e5ab59b00bbf"
      },
      "execution_count": null,
      "outputs": [
        {
          "output_type": "stream",
          "name": "stdout",
          "text": [
            "Cannot divide by zero.\n"
          ]
        }
      ]
    },
    {
      "cell_type": "markdown",
      "source": [
        "###Value Error"
      ],
      "metadata": {
        "id": "obIu19wBThop"
      }
    },
    {
      "cell_type": "code",
      "source": [
        "from math import sqrt\n",
        "print(sqrt(-10))   #passing negative number to sqrt will raise a value error."
      ],
      "metadata": {
        "colab": {
          "base_uri": "https://localhost:8080/",
          "height": 158
        },
        "id": "_KSxQ1EwTtOs",
        "outputId": "d593587e-e8d1-437f-9ad0-9fd226d40705"
      },
      "execution_count": null,
      "outputs": [
        {
          "output_type": "error",
          "ename": "ValueError",
          "evalue": "math domain error",
          "traceback": [
            "\u001b[0;31m---------------------------------------------------------------------------\u001b[0m",
            "\u001b[0;31mValueError\u001b[0m                                Traceback (most recent call last)",
            "\u001b[0;32m<ipython-input-63-56f05e44a30c>\u001b[0m in \u001b[0;36m<cell line: 0>\u001b[0;34m()\u001b[0m\n\u001b[1;32m      1\u001b[0m \u001b[0;32mfrom\u001b[0m \u001b[0mmath\u001b[0m \u001b[0;32mimport\u001b[0m \u001b[0msqrt\u001b[0m\u001b[0;34m\u001b[0m\u001b[0;34m\u001b[0m\u001b[0m\n\u001b[0;32m----> 2\u001b[0;31m \u001b[0mprint\u001b[0m\u001b[0;34m(\u001b[0m\u001b[0msqrt\u001b[0m\u001b[0;34m(\u001b[0m\u001b[0;34m-\u001b[0m\u001b[0;36m10\u001b[0m\u001b[0;34m)\u001b[0m\u001b[0;34m)\u001b[0m\u001b[0;34m\u001b[0m\u001b[0;34m\u001b[0m\u001b[0m\n\u001b[0m",
            "\u001b[0;31mValueError\u001b[0m: math domain error"
          ]
        }
      ]
    },
    {
      "cell_type": "code",
      "source": [
        "try:\n",
        "  print(sqrt(-10))\n",
        "except ValueError:\n",
        "  print(\"Cannot calculate square root of a negative number.\")"
      ],
      "metadata": {
        "colab": {
          "base_uri": "https://localhost:8080/"
        },
        "id": "HgQ3FxkuTpAI",
        "outputId": "b988d71b-d4bf-425f-c5e2-3a81376f4a78"
      },
      "execution_count": null,
      "outputs": [
        {
          "output_type": "stream",
          "name": "stdout",
          "text": [
            "Cannot calculate square root of a negative number.\n"
          ]
        }
      ]
    },
    {
      "cell_type": "markdown",
      "source": [
        "###Type Error"
      ],
      "metadata": {
        "id": "NvxWB2CKw2Wc"
      }
    },
    {
      "cell_type": "code",
      "source": [
        "print(5 + \"Hi\")  # concatenating int and string will raise a type error."
      ],
      "metadata": {
        "colab": {
          "base_uri": "https://localhost:8080/",
          "height": 141
        },
        "id": "nBsh2o_oxJTE",
        "outputId": "7eeec804-c5e3-4be3-8342-f80b2915cc6b"
      },
      "execution_count": null,
      "outputs": [
        {
          "output_type": "error",
          "ename": "TypeError",
          "evalue": "unsupported operand type(s) for +: 'int' and 'str'",
          "traceback": [
            "\u001b[0;31m---------------------------------------------------------------------------\u001b[0m",
            "\u001b[0;31mTypeError\u001b[0m                                 Traceback (most recent call last)",
            "\u001b[0;32m<ipython-input-3-679c7d2b9129>\u001b[0m in \u001b[0;36m<cell line: 0>\u001b[0;34m()\u001b[0m\n\u001b[0;32m----> 1\u001b[0;31m \u001b[0mprint\u001b[0m\u001b[0;34m(\u001b[0m\u001b[0;36m5\u001b[0m \u001b[0;34m+\u001b[0m \u001b[0;34m\"Hi\"\u001b[0m\u001b[0;34m)\u001b[0m\u001b[0;34m\u001b[0m\u001b[0;34m\u001b[0m\u001b[0m\n\u001b[0m",
            "\u001b[0;31mTypeError\u001b[0m: unsupported operand type(s) for +: 'int' and 'str'"
          ]
        }
      ]
    },
    {
      "cell_type": "code",
      "source": [
        "try:\n",
        "  print(5 + \"Hi\")\n",
        "except TypeError:\n",
        "  print(\"Cannot concatenate int and string.\")"
      ],
      "metadata": {
        "colab": {
          "base_uri": "https://localhost:8080/"
        },
        "id": "KaWVGIGlxZuY",
        "outputId": "d7ebcd8c-a749-4a55-a2d2-ec6adeb2bcf1"
      },
      "execution_count": null,
      "outputs": [
        {
          "output_type": "stream",
          "name": "stdout",
          "text": [
            "Cannot concatenate int and string.\n"
          ]
        }
      ]
    },
    {
      "cell_type": "markdown",
      "source": [
        "#**Some Solved Problems**"
      ],
      "metadata": {
        "id": "OtWji0zUFo3p"
      }
    },
    {
      "cell_type": "markdown",
      "source": [
        "###1. Write a Python Program to read the contents of a text file named data.taxt and print each line to the console. Handle the case where the file does not exist using a try-except block."
      ],
      "metadata": {
        "id": "H7yfyCXSFt4a"
      }
    },
    {
      "cell_type": "code",
      "source": [
        "try:\n",
        "  f = open(\"data.txt\",\"r\")\n",
        "  for x in f:\n",
        "    print(x)\n",
        "  f.close()\n",
        "except FileNotFoundError:\n",
        "  print(\"The file does not exist.\")"
      ],
      "metadata": {
        "colab": {
          "base_uri": "https://localhost:8080/"
        },
        "id": "yJXid_mFFW1p",
        "outputId": "6f1ef516-1dcd-4ee5-aa4f-ad85e297cd62"
      },
      "execution_count": null,
      "outputs": [
        {
          "output_type": "stream",
          "name": "stdout",
          "text": [
            "The file does not exist.\n"
          ]
        }
      ]
    },
    {
      "cell_type": "markdown",
      "source": [
        "###2. Create a Python program that prompts the user to enter their name and saves it to a file called user.txt. Include exception handling to manage potential errors during file writing."
      ],
      "metadata": {
        "id": "6ou6ME83GcV3"
      }
    },
    {
      "cell_type": "code",
      "source": [
        "try:\n",
        "  with open(\"user.txt\",\"w\") as f:\n",
        "    name = input(\"Enter your name: \")\n",
        "    f.write(name)\n",
        "except Exception as e:\n",
        "  print(e)"
      ],
      "metadata": {
        "colab": {
          "base_uri": "https://localhost:8080/"
        },
        "id": "VwrNr1k-GZTb",
        "outputId": "f269c08b-ac80-46a3-c044-51b32238f183"
      },
      "execution_count": null,
      "outputs": [
        {
          "name": "stdout",
          "output_type": "stream",
          "text": [
            "Enter your name: Nirjla\n"
          ]
        }
      ]
    },
    {
      "cell_type": "markdown",
      "source": [
        "###3. Write a Python program to read a file named story.txt and count the number of words in it. Handle the  case where the file is mising. Assume words are separated by spaces."
      ],
      "metadata": {
        "id": "KEsd_IglHZfI"
      }
    },
    {
      "cell_type": "code",
      "source": [
        "try:\n",
        "  with open(\"story.txt\",\"r\") as f:\n",
        "    content = f.read()\n",
        "    words = content.split()\n",
        "    print(f\"The file contains {len(words)} words.\")\n",
        "except FileNotFoundError:\n",
        "  print(\"The file does not exist.\")"
      ],
      "metadata": {
        "colab": {
          "base_uri": "https://localhost:8080/"
        },
        "id": "s-Ite2fyG4Z_",
        "outputId": "d32689f3-e1c6-4941-9460-c17b5c6231cb"
      },
      "execution_count": null,
      "outputs": [
        {
          "output_type": "stream",
          "name": "stdout",
          "text": [
            "The file contains 49 words.\n"
          ]
        }
      ]
    },
    {
      "cell_type": "markdown",
      "source": [
        "###4. Write a Python program that asks the user for a line of text and appends it to an existing file named notes.txt. If the file doesn't exist, create it. Use exception handling to manage errors."
      ],
      "metadata": {
        "id": "-JJiA6j1IfPy"
      }
    },
    {
      "cell_type": "code",
      "source": [
        "try:\n",
        "  with open(\"notes.txt\",\"a\") as f:\n",
        "    line = input(\"Enter a line of text: \")\n",
        "    f.write(line+\"\\n\")\n",
        "except Exception as e:\n",
        "  print(e)"
      ],
      "metadata": {
        "colab": {
          "base_uri": "https://localhost:8080/"
        },
        "id": "trBm_D7NHuBW",
        "outputId": "d4af25c7-1fbf-4aa1-fe13-3ea01888139f"
      },
      "execution_count": null,
      "outputs": [
        {
          "name": "stdout",
          "output_type": "stream",
          "text": [
            "Enter a line of text: fsdfdgd\n"
          ]
        }
      ]
    },
    {
      "cell_type": "markdown",
      "source": [
        "###5. Create a python program that reads a file named numbers.txt containing one number per line. Calculate the sum of these numbers and print it. Handle cases where the file is missing or contains non-numeric data."
      ],
      "metadata": {
        "id": "wJpHW9XRJt6H"
      }
    },
    {
      "cell_type": "code",
      "source": [
        "try:\n",
        "  with open(\"numbers.txt\",\"r\") as f:\n",
        "    sum = 0\n",
        "    for x in f:\n",
        "      sum += int(x)\n",
        "    print(f\"The sum of the numbers in the file is {sum}.\")\n",
        "except FileNotFoundError:\n",
        "  print(\"The file does not exist.\")\n",
        "except ValueError:\n",
        "  print(\"The file contains non-numeric data.\")\n"
      ],
      "metadata": {
        "colab": {
          "base_uri": "https://localhost:8080/"
        },
        "id": "PDAecvc-JHwZ",
        "outputId": "12ddc956-92a9-48a9-8ba1-1e9136e27e95"
      },
      "execution_count": null,
      "outputs": [
        {
          "output_type": "stream",
          "name": "stdout",
          "text": [
            "The sum of the numbers in the file is 55.\n"
          ]
        }
      ]
    }
  ]
}