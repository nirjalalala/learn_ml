{
  "nbformat": 4,
  "nbformat_minor": 0,
  "metadata": {
    "colab": {
      "provenance": [],
      "authorship_tag": "ABX9TyPvPyYD+6Qo90uToptcxlwV",
      "include_colab_link": true
    },
    "kernelspec": {
      "name": "python3",
      "display_name": "Python 3"
    },
    "language_info": {
      "name": "python"
    }
  },
  "cells": [
    {
      "cell_type": "markdown",
      "metadata": {
        "id": "view-in-github",
        "colab_type": "text"
      },
      "source": [
        "<a href=\"https://colab.research.google.com/github/nirjalalala/learn_ml/blob/main/Day_03.ipynb\" target=\"_parent\"><img src=\"https://colab.research.google.com/assets/colab-badge.svg\" alt=\"Open In Colab\"/></a>"
      ]
    },
    {
      "cell_type": "markdown",
      "source": [
        "##**Some Python Programs**"
      ],
      "metadata": {
        "id": "qXbzY30ceL-8"
      }
    },
    {
      "cell_type": "markdown",
      "source": [
        "###Age Calculator"
      ],
      "metadata": {
        "id": "mGlRwrqveZ3L"
      }
    },
    {
      "cell_type": "code",
      "source": [
        "import datetime\n",
        "\n",
        "birth_year = int(input(\"Enter your birth year: \"))\n",
        "this_year = datetime.datetime.now().year\n",
        "age = this_year - birth_year\n",
        "print(f\"Your age is {age}.\")"
      ],
      "metadata": {
        "colab": {
          "base_uri": "https://localhost:8080/"
        },
        "id": "1YBeD66SeJ9W",
        "outputId": "e685f5fd-40fe-4d21-8a43-9e8302c8bf4f"
      },
      "execution_count": 3,
      "outputs": [
        {
          "output_type": "stream",
          "name": "stdout",
          "text": [
            "Enter your birth year: 2004\n",
            "Your age is 21.\n"
          ]
        }
      ]
    },
    {
      "cell_type": "markdown",
      "source": [
        "###Simple Interest Calculator"
      ],
      "metadata": {
        "id": "fylKV-SNf2HZ"
      }
    },
    {
      "cell_type": "code",
      "source": [
        "amount = float(input(\"Enter the amount: \"))\n",
        "interest = float(input(\"Enter the interest rate: \"))\n",
        "years = int(input(\"Enter the number of years: \"))\n",
        "simple_interest = (amount * interest * years) / 100\n",
        "print(f\"The simple interest is {simple_interest}.\")"
      ],
      "metadata": {
        "colab": {
          "base_uri": "https://localhost:8080/"
        },
        "id": "RMXj7P-9fyBZ",
        "outputId": "638e1aac-bd5f-47ba-e65e-57f2383d1639"
      },
      "execution_count": 4,
      "outputs": [
        {
          "output_type": "stream",
          "name": "stdout",
          "text": [
            "Enter the amount: 1000\n",
            "Enter the interest: 10\n",
            "Enter the number of years: 2\n",
            "The simple interest is 200.0.\n"
          ]
        }
      ]
    },
    {
      "cell_type": "markdown",
      "source": [
        "###BMI Calculator"
      ],
      "metadata": {
        "id": "tikjkqdWf2to"
      }
    },
    {
      "cell_type": "code",
      "execution_count": 6,
      "metadata": {
        "colab": {
          "base_uri": "https://localhost:8080/"
        },
        "id": "H3ikXrOOd4s1",
        "outputId": "6cdc196e-a13d-4e97-c6fb-30e9a70763b0"
      },
      "outputs": [
        {
          "output_type": "stream",
          "name": "stdout",
          "text": [
            "Enter your weight in kilograms: 70\n",
            "Enter your height in meters: 1.75\n",
            "Your BMI is 22.857142857142858.\n",
            "You are normal.\n"
          ]
        }
      ],
      "source": [
        "weight = float(input(\"Enter your weight in kg: \"))\n",
        "height = float(input(\"Enter your height in meters: \"))\n",
        "bmi = weight / (height ** 2)\n",
        "print(f\"\\nYour BMI is {bmi}.\")\n",
        "\n",
        "if bmi < 18.5:\n",
        "  print(\"You are underweight.\")\n",
        "elif bmi >= 18.5 and bmi < 25:\n",
        "  print(\"You are normal.\")\n",
        "elif bmi >= 25 and bmi < 30:\n",
        "  print(\"You are overweight.\")\n",
        "else:\n",
        "  print(\"You are obese.\")"
      ]
    },
    {
      "cell_type": "markdown",
      "source": [
        "###Currency Converter"
      ],
      "metadata": {
        "id": "scoFNbphhA1L"
      }
    },
    {
      "cell_type": "code",
      "source": [
        "nrs = float(input(\"Enter an amount in Nepali Rupees: \"))\n",
        "usd = nrs * 132\n",
        "print(f\"The amount in US Dollars is {usd}.\")\n"
      ],
      "metadata": {
        "colab": {
          "base_uri": "https://localhost:8080/"
        },
        "id": "gTWhLAAsgZHa",
        "outputId": "e8cd44ab-5e0f-44fb-df3d-264926bdde59"
      },
      "execution_count": 7,
      "outputs": [
        {
          "output_type": "stream",
          "name": "stdout",
          "text": [
            "Enter an amount in Nepali Rupees: 124235346.87\n",
            "The amount in US Dollars is 16399065786.84.\n"
          ]
        }
      ]
    }
  ]
}