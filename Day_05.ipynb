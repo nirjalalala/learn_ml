{
  "nbformat": 4,
  "nbformat_minor": 0,
  "metadata": {
    "colab": {
      "provenance": [],
      "authorship_tag": "ABX9TyP+zGOp+Gw02DfgcbqWwa5W",
      "include_colab_link": true
    },
    "kernelspec": {
      "name": "python3",
      "display_name": "Python 3"
    },
    "language_info": {
      "name": "python"
    }
  },
  "cells": [
    {
      "cell_type": "markdown",
      "metadata": {
        "id": "view-in-github",
        "colab_type": "text"
      },
      "source": [
        "<a href=\"https://colab.research.google.com/github/nirjalalala/learn_ml/blob/main/Day_05.ipynb\" target=\"_parent\"><img src=\"https://colab.research.google.com/assets/colab-badge.svg\" alt=\"Open In Colab\"/></a>"
      ]
    },
    {
      "cell_type": "markdown",
      "source": [],
      "metadata": {
        "id": "KLBFVvdgSP_5"
      }
    },
    {
      "cell_type": "markdown",
      "source": [
        "#**String Manipulation in Python**"
      ],
      "metadata": {
        "id": "WxvxGxChISW4"
      }
    },
    {
      "cell_type": "code",
      "execution_count": 5,
      "metadata": {
        "colab": {
          "base_uri": "https://localhost:8080/"
        },
        "id": "JUhNCvU2IHku",
        "outputId": "ae531209-54be-45ba-a53b-3a03bfbbb910"
      },
      "outputs": [
        {
          "output_type": "stream",
          "name": "stdout",
          "text": [
            "   Hello   World   \n",
            "   hello   world   \n",
            "Hello   World\n",
            "   Hello   Nirjala   \n"
          ]
        }
      ],
      "source": [
        "#Create a string with leading and trailing strips\n",
        "\n",
        "text = \"   Hello   World   \"\n",
        "print(text)\n",
        "\n",
        "#.lower() converts the string into lowercase\n",
        "print(text.lower())\n",
        "\n",
        "#.strip() removes the leading and trailing strips\n",
        "print(text.strip())\n",
        "\n",
        "#.replace() replaces the given substring with a new substring\n",
        "print(text.replace(\"World\",\"Nirjala\"))"
      ]
    },
    {
      "cell_type": "markdown",
      "source": [
        "###Function Chaining or Method Chainig"
      ],
      "metadata": {
        "id": "U_u3xKjKKKcH"
      }
    },
    {
      "cell_type": "code",
      "source": [
        "#strip removes leading and trailing spaces from the original array\n",
        "#split returns a list by splitting the string\n",
        "splitted = text.strip().split()\n",
        "print(splitted)"
      ],
      "metadata": {
        "colab": {
          "base_uri": "https://localhost:8080/"
        },
        "id": "9ldPoPZ-Jw9K",
        "outputId": "01c7b804-86cd-4446-e72f-bac04c158840"
      },
      "execution_count": 7,
      "outputs": [
        {
          "output_type": "stream",
          "name": "stdout",
          "text": [
            "['Hello', 'World']\n"
          ]
        }
      ]
    },
    {
      "cell_type": "code",
      "source": [
        "#.join() joins the argument by given substring\n",
        "joined = '-'.join(splitted)\n",
        "print(joined)"
      ],
      "metadata": {
        "colab": {
          "base_uri": "https://localhost:8080/"
        },
        "id": "xkBdfE-hKYTL",
        "outputId": "ed4f065e-642c-4d14-e8d0-9f693f937296"
      },
      "execution_count": 8,
      "outputs": [
        {
          "output_type": "stream",
          "name": "stdout",
          "text": [
            "Hello-World\n"
          ]
        }
      ]
    },
    {
      "cell_type": "markdown",
      "source": [
        "#**SOME SOLVED PROBLEMS**"
      ],
      "metadata": {
        "id": "UP2LbXODV32T"
      }
    },
    {
      "cell_type": "markdown",
      "source": [
        "Import math and calculate sine of 30 degrees using math.sin(math.radians(30))."
      ],
      "metadata": {
        "id": "m_BdOm6nV9ne"
      }
    },
    {
      "cell_type": "code",
      "source": [
        "import math\n",
        "\n",
        "print(math.sin(math.radians(30)))"
      ],
      "metadata": {
        "colab": {
          "base_uri": "https://localhost:8080/"
        },
        "id": "eyabMwOKV88C",
        "outputId": "01800797-2c58-4167-80bd-24c7d0234b49"
      },
      "execution_count": 9,
      "outputs": [
        {
          "output_type": "stream",
          "name": "stdout",
          "text": [
            "0.49999999999999994\n"
          ]
        }
      ]
    },
    {
      "cell_type": "markdown",
      "source": [
        "Import random as rng and generate a random integer between 50-75."
      ],
      "metadata": {
        "id": "NH-JYmLHWfgZ"
      }
    },
    {
      "cell_type": "code",
      "source": [
        "import random as rng\n",
        "\n",
        "raandom_number = rng.randint(50,75)\n",
        "print(raandom_number)"
      ],
      "metadata": {
        "colab": {
          "base_uri": "https://localhost:8080/"
        },
        "id": "lQR2eqtlWT9K",
        "outputId": "aaa2055f-3652-4503-bb8f-4007dab8a0c5"
      },
      "execution_count": 10,
      "outputs": [
        {
          "output_type": "stream",
          "name": "stdout",
          "text": [
            "61\n"
          ]
        }
      ]
    },
    {
      "cell_type": "markdown",
      "source": [
        "Create calc.py with square function, import and print square of 8."
      ],
      "metadata": {
        "id": "-Gv7Ail9W6W-"
      }
    },
    {
      "cell_type": "code",
      "source": [
        "%%writefile helper.py\n",
        "\n",
        "def square(num):\n",
        "  return num*num"
      ],
      "metadata": {
        "colab": {
          "base_uri": "https://localhost:8080/"
        },
        "id": "JUNsQT1AWyxd",
        "outputId": "868f8810-e8cd-42d6-98b3-a2b2ec26921e"
      },
      "execution_count": 11,
      "outputs": [
        {
          "output_type": "stream",
          "name": "stdout",
          "text": [
            "Writing helper.py\n"
          ]
        }
      ]
    },
    {
      "cell_type": "code",
      "source": [
        "import helper\n",
        "\n",
        "print(helper.square(8))"
      ],
      "metadata": {
        "colab": {
          "base_uri": "https://localhost:8080/"
        },
        "id": "_5kFbFtxXXNx",
        "outputId": "170b0e01-2fac-493a-dfbe-968e0490ac59"
      },
      "execution_count": 12,
      "outputs": [
        {
          "output_type": "stream",
          "name": "stdout",
          "text": [
            "64\n"
          ]
        }
      ]
    },
    {
      "cell_type": "markdown",
      "source": [
        "Import choice from random, pick from fruits list [\"Mango\",\"Apple\",\"Grape\"]."
      ],
      "metadata": {
        "id": "2ZIX-UCdXQAN"
      }
    },
    {
      "cell_type": "code",
      "source": [
        "from random import choice\n",
        "\n",
        "fruits = [\"Mango\", \"Apple\", \"Grape\"]\n",
        "random_choice = choice(fruits)\n",
        "print(random_choice)"
      ],
      "metadata": {
        "colab": {
          "base_uri": "https://localhost:8080/"
        },
        "id": "v6GJALjeXlOG",
        "outputId": "6c538fe9-1c61-4feb-d50f-e5e67ec0567a"
      },
      "execution_count": 14,
      "outputs": [
        {
          "output_type": "stream",
          "name": "stdout",
          "text": [
            "Apple\n"
          ]
        }
      ]
    }
  ]
}